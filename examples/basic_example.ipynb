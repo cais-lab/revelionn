{
 "cells": [
  {
   "cell_type": "markdown",
   "id": "446b4a64",
   "metadata": {},
   "source": [
    "# Basic Example of Using the RevelioNN Library"
   ]
  },
  {
   "cell_type": "code",
   "execution_count": 1,
   "id": "ccb3bcca",
   "metadata": {},
   "outputs": [],
   "source": [
    "import os\n",
    "import sys\n",
    "import torch"
   ]
  },
  {
   "cell_type": "code",
   "execution_count": 2,
   "id": "ebdfc914",
   "metadata": {},
   "outputs": [],
   "source": [
    "cur_path = os.path.dirname(os.path.abspath(\"__file__\"))\n",
    "root_path = os.path.dirname(cur_path)\n",
    "sys.path.append(root_path)"
   ]
  },
  {
   "cell_type": "markdown",
   "id": "30f7ef70",
   "metadata": {},
   "source": [
    "## Preparation of the convolution neural network model"
   ]
  },
  {
   "cell_type": "markdown",
   "id": "d474af90",
   "metadata": {},
   "source": [
    "### Initializing the model"
   ]
  },
  {
   "cell_type": "code",
   "execution_count": 3,
   "id": "8df0dd70",
   "metadata": {},
   "outputs": [
    {
     "name": "stderr",
     "output_type": "stream",
     "text": [
      "Using cache found in C:\\Users\\aaagafonov/.cache\\torch\\hub\\pytorch_vision_v0.10.0\n",
      "C:\\Users\\aaagafonov\\anaconda3\\envs\\onto-xai-final\\lib\\site-packages\\torchvision\\models\\_utils.py:208: UserWarning: The parameter 'pretrained' is deprecated since 0.13 and may be removed in the future, please use 'weights' instead.\n",
      "  warnings.warn(\n",
      "C:\\Users\\aaagafonov\\anaconda3\\envs\\onto-xai-final\\lib\\site-packages\\torchvision\\models\\_utils.py:223: UserWarning: Arguments other than a weight enum or `None` for 'weights' are deprecated since 0.13 and may be removed in the future. The current behavior is equivalent to passing `weights=ResNet18_Weights.IMAGENET1K_V1`. You can also use `weights=ResNet18_Weights.DEFAULT` to get the most up-to-date weights.\n",
      "  warnings.warn(msg)\n"
     ]
    },
    {
     "data": {
      "text/plain": [
       "<All keys matched successfully>"
      ]
     },
     "execution_count": 3,
     "metadata": {},
     "output_type": "execute_result"
    }
   ],
   "source": [
    "from main_net_classes.resnet18_scdb import ResNet18, NUM_CHANNELS, IMG_SIDE_SIZE, transformation\n",
    "\n",
    "main_net = ResNet18()\n",
    "main_net.load_state_dict(torch.load('SCDB_ResNet18_C1.pt'))"
   ]
  },
  {
   "cell_type": "markdown",
   "id": "0c4c0d2f",
   "metadata": {},
   "source": [
    "### Converting the model to RevelioNN format"
   ]
  },
  {
   "cell_type": "code",
   "execution_count": 4,
   "id": "3aaf4b44",
   "metadata": {},
   "outputs": [],
   "source": [
    "from revelionn.utils.model import convert_to_rvl_format\n",
    "\n",
    "convert_to_rvl_format(main_net, 'SCDB_ResNet18_C1', 'C1', 'resnet18_scdb', 'ResNet18', 'transformation', IMG_SIDE_SIZE, NUM_CHANNELS)"
   ]
  },
  {
   "cell_type": "markdown",
   "id": "e7492d35",
   "metadata": {},
   "source": [
    "## Training mapping networks"
   ]
  },
  {
   "cell_type": "code",
   "execution_count": 5,
   "id": "fa54cf70",
   "metadata": {},
   "outputs": [],
   "source": [
    "device = torch.device('cuda')"
   ]
  },
  {
   "cell_type": "markdown",
   "id": "520d1606",
   "metadata": {},
   "source": [
    "### Initializing the MappingTrainer class"
   ]
  },
  {
   "cell_type": "code",
   "execution_count": 6,
   "id": "1bf3b4ba",
   "metadata": {},
   "outputs": [
    {
     "name": "stderr",
     "output_type": "stream",
     "text": [
      "Using cache found in C:\\Users\\aaagafonov/.cache\\torch\\hub\\pytorch_vision_v0.10.0\n",
      "C:\\Users\\aaagafonov\\anaconda3\\envs\\onto-xai-final\\lib\\site-packages\\torchvision\\models\\_utils.py:208: UserWarning: The parameter 'pretrained' is deprecated since 0.13 and may be removed in the future, please use 'weights' instead.\n",
      "  warnings.warn(\n",
      "C:\\Users\\aaagafonov\\anaconda3\\envs\\onto-xai-final\\lib\\site-packages\\torchvision\\models\\_utils.py:223: UserWarning: Arguments other than a weight enum or `None` for 'weights' are deprecated since 0.13 and may be removed in the future. The current behavior is equivalent to passing `weights=ResNet18_Weights.IMAGENET1K_V1`. You can also use `weights=ResNet18_Weights.DEFAULT` to get the most up-to-date weights.\n",
      "  warnings.warn(msg)\n"
     ]
    }
   ],
   "source": [
    "from revelionn.mapping_trainer import MappingTrainer\n",
    "\n",
    "trainer = MappingTrainer('SCDB_ResNet18_C1.rvl', os.path.join(root_path, 'main_net_classes'), ['bn'], 20, 100, os.path.join(root_path, 'trained_models', 'mapping_models'),\n",
    "                         device, 'D:\\\\Datasets\\\\scdb_custom\\\\images',\n",
    "                         'D:\\\\Datasets\\\\scdb_custom\\\\scdb_partition_corrected\\\\C1_mapping_train.csv', \n",
    "                         'D:\\\\Datasets\\\\scdb_custom\\\\scdb_partition_corrected\\\\C1_mapping_val.csv', \n",
    "                         'name', 100, 6, None)"
   ]
  },
  {
   "cell_type": "markdown",
   "id": "95e99f95",
   "metadata": {},
   "source": [
    "### Training for simultaneous mapping network"
   ]
  },
  {
   "cell_type": "code",
   "execution_count": 7,
   "id": "ff1c398a",
   "metadata": {},
   "outputs": [
    {
     "name": "stdout",
     "output_type": "stream",
     "text": [
      "Epoch 1/100.. Train loss: 0.713.. Valid loss: 0.693.. Train acc: 0.037.. Valid acc: 0.033.. Train AUC: 0.739.. Valid AUC: 0.747.. \n",
      "Train AUC HexStar: 0.782.. Train AUC EllStar: 0.925.. Train AUC TEStarmarker: 0.777.. Train AUC Hexagon: 0.722.. Train AUC Star: 0.691.. Train AUC Ellipse: 0.910.. Train AUC Triangle: 0.553.. Train AUC Starmarker: 0.550..  \n",
      "Val AUC HexStar: 0.806.. Val AUC EllStar: 0.908.. Val AUC TEStarmarker: 0.795.. Val AUC Hexagon: 0.784.. Val AUC Star: 0.668.. Val AUC Ellipse: 0.906.. Val AUC Triangle: 0.563.. Val AUC Starmarker: 0.543.. \n",
      "Validation loss decreased (inf --> 0.693029).  Saving model ...\n",
      "Epoch 2/100.. Train loss: 0.629.. Valid loss: 0.562.. Train acc: 0.075.. Valid acc: 0.042.. Train AUC: 0.755.. Valid AUC: 0.748.. \n",
      "Train AUC HexStar: 0.804.. Train AUC EllStar: 0.931.. Train AUC TEStarmarker: 0.812.. Train AUC Hexagon: 0.773.. Train AUC Star: 0.653.. Train AUC Ellipse: 0.937.. Train AUC Triangle: 0.574.. Train AUC Starmarker: 0.553..  \n",
      "Val AUC HexStar: 0.809.. Val AUC EllStar: 0.911.. Val AUC TEStarmarker: 0.800.. Val AUC Hexagon: 0.793.. Val AUC Star: 0.655.. Val AUC Ellipse: 0.917.. Val AUC Triangle: 0.561.. Val AUC Starmarker: 0.539.. \n",
      "Validation loss decreased (0.693029 --> 0.561806).  Saving model ...\n",
      "Epoch 3/100.. Train loss: 0.524.. Valid loss: 0.514.. Train acc: 0.151.. Valid acc: 0.194.. Train AUC: 0.749.. Valid AUC: 0.719.. \n",
      "Train AUC HexStar: 0.805.. Train AUC EllStar: 0.936.. Train AUC TEStarmarker: 0.812.. Train AUC Hexagon: 0.776.. Train AUC Star: 0.622.. Train AUC Ellipse: 0.941.. Train AUC Triangle: 0.563.. Train AUC Starmarker: 0.538..  \n",
      "Val AUC HexStar: 0.803.. Val AUC EllStar: 0.915.. Val AUC TEStarmarker: 0.802.. Val AUC Hexagon: 0.795.. Val AUC Star: 0.416.. Val AUC Ellipse: 0.923.. Val AUC Triangle: 0.569.. Val AUC Starmarker: 0.528.. \n",
      "Validation loss decreased (0.561806 --> 0.514383).  Saving model ...\n",
      "Epoch 4/100.. Train loss: 0.494.. Valid loss: 0.498.. Train acc: 0.190.. Valid acc: 0.169.. Train AUC: 0.740.. Valid AUC: 0.746.. \n",
      "Train AUC HexStar: 0.812.. Train AUC EllStar: 0.932.. Train AUC TEStarmarker: 0.804.. Train AUC Hexagon: 0.792.. Train AUC Star: 0.539.. Train AUC Ellipse: 0.935.. Train AUC Triangle: 0.575.. Train AUC Starmarker: 0.532..  \n",
      "Val AUC HexStar: 0.809.. Val AUC EllStar: 0.901.. Val AUC TEStarmarker: 0.800.. Val AUC Hexagon: 0.805.. Val AUC Star: 0.634.. Val AUC Ellipse: 0.913.. Val AUC Triangle: 0.581.. Val AUC Starmarker: 0.526.. \n",
      "Validation loss decreased (0.514383 --> 0.498054).  Saving model ...\n",
      "Epoch 5/100.. Train loss: 0.476.. Valid loss: 0.480.. Train acc: 0.186.. Valid acc: 0.168.. Train AUC: 0.762.. Valid AUC: 0.767.. \n",
      "Train AUC HexStar: 0.805.. Train AUC EllStar: 0.926.. Train AUC TEStarmarker: 0.819.. Train AUC Hexagon: 0.793.. Train AUC Star: 0.698.. Train AUC Ellipse: 0.940.. Train AUC Triangle: 0.592.. Train AUC Starmarker: 0.523..  \n",
      "Val AUC HexStar: 0.803.. Val AUC EllStar: 0.906.. Val AUC TEStarmarker: 0.821.. Val AUC Hexagon: 0.796.. Val AUC Star: 0.728.. Val AUC Ellipse: 0.919.. Val AUC Triangle: 0.615.. Val AUC Starmarker: 0.550.. \n",
      "Validation loss decreased (0.498054 --> 0.480095).  Saving model ...\n",
      "Epoch 6/100.. Train loss: 0.458.. Valid loss: 0.473.. Train acc: 0.247.. Valid acc: 0.224.. Train AUC: 0.777.. Valid AUC: 0.771.. \n",
      "Train AUC HexStar: 0.804.. Train AUC EllStar: 0.930.. Train AUC TEStarmarker: 0.836.. Train AUC Hexagon: 0.793.. Train AUC Star: 0.745.. Train AUC Ellipse: 0.944.. Train AUC Triangle: 0.613.. Train AUC Starmarker: 0.554..  \n",
      "Val AUC HexStar: 0.806.. Val AUC EllStar: 0.893.. Val AUC TEStarmarker: 0.823.. Val AUC Hexagon: 0.809.. Val AUC Star: 0.774.. Val AUC Ellipse: 0.915.. Val AUC Triangle: 0.575.. Val AUC Starmarker: 0.572.. \n",
      "Validation loss decreased (0.480095 --> 0.473090).  Saving model ...\n",
      "Epoch 7/100.. Train loss: 0.450.. Valid loss: 0.467.. Train acc: 0.247.. Valid acc: 0.227.. Train AUC: 0.783.. Valid AUC: 0.774.. \n",
      "Train AUC HexStar: 0.808.. Train AUC EllStar: 0.926.. Train AUC TEStarmarker: 0.831.. Train AUC Hexagon: 0.799.. Train AUC Star: 0.794.. Train AUC Ellipse: 0.941.. Train AUC Triangle: 0.610.. Train AUC Starmarker: 0.552..  \n",
      "Val AUC HexStar: 0.806.. Val AUC EllStar: 0.896.. Val AUC TEStarmarker: 0.826.. Val AUC Hexagon: 0.803.. Val AUC Star: 0.815.. Val AUC Ellipse: 0.915.. Val AUC Triangle: 0.573.. Val AUC Starmarker: 0.554.. \n",
      "Validation loss decreased (0.473090 --> 0.466946).  Saving model ...\n",
      "Epoch 8/100.. Train loss: 0.443.. Valid loss: 0.459.. Train acc: 0.286.. Valid acc: 0.267.. Train AUC: 0.785.. Valid AUC: 0.775.. \n",
      "Train AUC HexStar: 0.805.. Train AUC EllStar: 0.928.. Train AUC TEStarmarker: 0.828.. Train AUC Hexagon: 0.797.. Train AUC Star: 0.821.. Train AUC Ellipse: 0.941.. Train AUC Triangle: 0.588.. Train AUC Starmarker: 0.568..  \n",
      "Val AUC HexStar: 0.797.. Val AUC EllStar: 0.896.. Val AUC TEStarmarker: 0.832.. Val AUC Hexagon: 0.801.. Val AUC Star: 0.785.. Val AUC Ellipse: 0.922.. Val AUC Triangle: 0.586.. Val AUC Starmarker: 0.578.. \n",
      "Validation loss decreased (0.466946 --> 0.459363).  Saving model ...\n",
      "Epoch 9/100.. Train loss: 0.436.. Valid loss: 0.453.. Train acc: 0.263.. Valid acc: 0.225.. Train AUC: 0.799.. Valid AUC: 0.798.. \n",
      "Train AUC HexStar: 0.808.. Train AUC EllStar: 0.927.. Train AUC TEStarmarker: 0.842.. Train AUC Hexagon: 0.800.. Train AUC Star: 0.882.. Train AUC Ellipse: 0.941.. Train AUC Triangle: 0.610.. Train AUC Starmarker: 0.582..  \n",
      "Val AUC HexStar: 0.797.. Val AUC EllStar: 0.891.. Val AUC TEStarmarker: 0.845.. Val AUC Hexagon: 0.806.. Val AUC Star: 0.888.. Val AUC Ellipse: 0.922.. Val AUC Triangle: 0.619.. Val AUC Starmarker: 0.614.. \n",
      "Validation loss decreased (0.459363 --> 0.453370).  Saving model ...\n",
      "Epoch 10/100.. Train loss: 0.428.. Valid loss: 0.445.. Train acc: 0.279.. Valid acc: 0.313.. Train AUC: 0.805.. Valid AUC: 0.798.. \n",
      "Train AUC HexStar: 0.805.. Train AUC EllStar: 0.930.. Train AUC TEStarmarker: 0.844.. Train AUC Hexagon: 0.796.. Train AUC Star: 0.900.. Train AUC Ellipse: 0.945.. Train AUC Triangle: 0.627.. Train AUC Starmarker: 0.591..  \n",
      "Val AUC HexStar: 0.799.. Val AUC EllStar: 0.896.. Val AUC TEStarmarker: 0.846.. Val AUC Hexagon: 0.798.. Val AUC Star: 0.910.. Val AUC Ellipse: 0.920.. Val AUC Triangle: 0.616.. Val AUC Starmarker: 0.599.. \n",
      "Validation loss decreased (0.453370 --> 0.444586).  Saving model ...\n",
      "Epoch 11/100.. Train loss: 0.421.. Valid loss: 0.441.. Train acc: 0.316.. Valid acc: 0.324.. Train AUC: 0.808.. Valid AUC: 0.807.. \n",
      "Train AUC HexStar: 0.810.. Train AUC EllStar: 0.923.. Train AUC TEStarmarker: 0.855.. Train AUC Hexagon: 0.798.. Train AUC Star: 0.930.. Train AUC Ellipse: 0.941.. Train AUC Triangle: 0.620.. Train AUC Starmarker: 0.586..  \n",
      "Val AUC HexStar: 0.799.. Val AUC EllStar: 0.897.. Val AUC TEStarmarker: 0.870.. Val AUC Hexagon: 0.791.. Val AUC Star: 0.942.. Val AUC Ellipse: 0.929.. Val AUC Triangle: 0.617.. Val AUC Starmarker: 0.612.. \n",
      "Validation loss decreased (0.444586 --> 0.441011).  Saving model ...\n",
      "Epoch 12/100.. Train loss: 0.411.. Valid loss: 0.435.. Train acc: 0.331.. Valid acc: 0.339.. Train AUC: 0.817.. Valid AUC: 0.813.. \n",
      "Train AUC HexStar: 0.810.. Train AUC EllStar: 0.928.. Train AUC TEStarmarker: 0.874.. Train AUC Hexagon: 0.799.. Train AUC Star: 0.936.. Train AUC Ellipse: 0.949.. Train AUC Triangle: 0.641.. Train AUC Starmarker: 0.602..  \n",
      "Val AUC HexStar: 0.799.. Val AUC EllStar: 0.891.. Val AUC TEStarmarker: 0.871.. Val AUC Hexagon: 0.809.. Val AUC Star: 0.941.. Val AUC Ellipse: 0.918.. Val AUC Triangle: 0.660.. Val AUC Starmarker: 0.612.. \n",
      "Validation loss decreased (0.441011 --> 0.434932).  Saving model ...\n",
      "Epoch 13/100.. Train loss: 0.408.. Valid loss: 0.438.. Train acc: 0.356.. Valid acc: 0.299.. Train AUC: 0.827.. Valid AUC: 0.824.. \n",
      "Train AUC HexStar: 0.829.. Train AUC EllStar: 0.923.. Train AUC TEStarmarker: 0.870.. Train AUC Hexagon: 0.810.. Train AUC Star: 0.967.. Train AUC Ellipse: 0.943.. Train AUC Triangle: 0.676.. Train AUC Starmarker: 0.599..  \n",
      "Val AUC HexStar: 0.829.. Val AUC EllStar: 0.899.. Val AUC TEStarmarker: 0.879.. Val AUC Hexagon: 0.806.. Val AUC Star: 0.956.. Val AUC Ellipse: 0.913.. Val AUC Triangle: 0.687.. Val AUC Starmarker: 0.626.. \n",
      "EarlyStopping counter: 1 out of 20\n",
      "Epoch 14/100.. Train loss: 0.404.. Valid loss: 0.426.. Train acc: 0.336.. Valid acc: 0.307.. Train AUC: 0.832.. Valid AUC: 0.832.. \n",
      "Train AUC HexStar: 0.843.. Train AUC EllStar: 0.926.. Train AUC TEStarmarker: 0.879.. Train AUC Hexagon: 0.813.. Train AUC Star: 0.967.. Train AUC Ellipse: 0.944.. Train AUC Triangle: 0.686.. Train AUC Starmarker: 0.600..  \n",
      "Val AUC HexStar: 0.846.. Val AUC EllStar: 0.900.. Val AUC TEStarmarker: 0.880.. Val AUC Hexagon: 0.806.. Val AUC Star: 0.980.. Val AUC Ellipse: 0.915.. Val AUC Triangle: 0.698.. Val AUC Starmarker: 0.634.. \n",
      "Validation loss decreased (0.434932 --> 0.425616).  Saving model ...\n"
     ]
    },
    {
     "name": "stdout",
     "output_type": "stream",
     "text": [
      "Epoch 15/100.. Train loss: 0.396.. Valid loss: 0.419.. Train acc: 0.343.. Valid acc: 0.310.. Train AUC: 0.842.. Valid AUC: 0.839.. \n",
      "Train AUC HexStar: 0.861.. Train AUC EllStar: 0.928.. Train AUC TEStarmarker: 0.882.. Train AUC Hexagon: 0.823.. Train AUC Star: 0.976.. Train AUC Ellipse: 0.940.. Train AUC Triangle: 0.703.. Train AUC Starmarker: 0.623..  \n",
      "Val AUC HexStar: 0.849.. Val AUC EllStar: 0.913.. Val AUC TEStarmarker: 0.881.. Val AUC Hexagon: 0.806.. Val AUC Star: 0.975.. Val AUC Ellipse: 0.919.. Val AUC Triangle: 0.702.. Val AUC Starmarker: 0.665.. \n",
      "Validation loss decreased (0.425616 --> 0.419496).  Saving model ...\n",
      "Epoch 16/100.. Train loss: 0.393.. Valid loss: 0.416.. Train acc: 0.344.. Valid acc: 0.339.. Train AUC: 0.845.. Valid AUC: 0.844.. \n",
      "Train AUC HexStar: 0.859.. Train AUC EllStar: 0.935.. Train AUC TEStarmarker: 0.881.. Train AUC Hexagon: 0.818.. Train AUC Star: 0.974.. Train AUC Ellipse: 0.943.. Train AUC Triangle: 0.707.. Train AUC Starmarker: 0.646..  \n",
      "Val AUC HexStar: 0.854.. Val AUC EllStar: 0.908.. Val AUC TEStarmarker: 0.880.. Val AUC Hexagon: 0.828.. Val AUC Star: 0.984.. Val AUC Ellipse: 0.920.. Val AUC Triangle: 0.719.. Val AUC Starmarker: 0.659.. \n",
      "Validation loss decreased (0.419496 --> 0.416041).  Saving model ...\n",
      "Epoch 17/100.. Train loss: 0.394.. Valid loss: 0.410.. Train acc: 0.331.. Valid acc: 0.319.. Train AUC: 0.850.. Valid AUC: 0.843.. \n",
      "Train AUC HexStar: 0.877.. Train AUC EllStar: 0.929.. Train AUC TEStarmarker: 0.885.. Train AUC Hexagon: 0.844.. Train AUC Star: 0.978.. Train AUC Ellipse: 0.940.. Train AUC Triangle: 0.712.. Train AUC Starmarker: 0.636..  \n",
      "Val AUC HexStar: 0.841.. Val AUC EllStar: 0.907.. Val AUC TEStarmarker: 0.888.. Val AUC Hexagon: 0.823.. Val AUC Star: 0.980.. Val AUC Ellipse: 0.917.. Val AUC Triangle: 0.724.. Val AUC Starmarker: 0.664.. \n",
      "Validation loss decreased (0.416041 --> 0.410123).  Saving model ...\n",
      "Epoch 18/100.. Train loss: 0.390.. Valid loss: 0.412.. Train acc: 0.329.. Valid acc: 0.322.. Train AUC: 0.853.. Valid AUC: 0.849.. \n",
      "Train AUC HexStar: 0.874.. Train AUC EllStar: 0.936.. Train AUC TEStarmarker: 0.886.. Train AUC Hexagon: 0.840.. Train AUC Star: 0.980.. Train AUC Ellipse: 0.938.. Train AUC Triangle: 0.723.. Train AUC Starmarker: 0.645..  \n",
      "Val AUC HexStar: 0.875.. Val AUC EllStar: 0.914.. Val AUC TEStarmarker: 0.900.. Val AUC Hexagon: 0.855.. Val AUC Star: 0.976.. Val AUC Ellipse: 0.922.. Val AUC Triangle: 0.702.. Val AUC Starmarker: 0.647.. \n",
      "EarlyStopping counter: 1 out of 20\n",
      "Epoch 19/100.. Train loss: 0.385.. Valid loss: 0.403.. Train acc: 0.326.. Valid acc: 0.339.. Train AUC: 0.853.. Valid AUC: 0.850.. \n",
      "Train AUC HexStar: 0.868.. Train AUC EllStar: 0.935.. Train AUC TEStarmarker: 0.890.. Train AUC Hexagon: 0.839.. Train AUC Star: 0.979.. Train AUC Ellipse: 0.940.. Train AUC Triangle: 0.721.. Train AUC Starmarker: 0.649..  \n",
      "Val AUC HexStar: 0.873.. Val AUC EllStar: 0.911.. Val AUC TEStarmarker: 0.892.. Val AUC Hexagon: 0.830.. Val AUC Star: 0.985.. Val AUC Ellipse: 0.924.. Val AUC Triangle: 0.720.. Val AUC Starmarker: 0.666.. \n",
      "Validation loss decreased (0.410123 --> 0.402930).  Saving model ...\n",
      "Epoch 20/100.. Train loss: 0.378.. Valid loss: 0.391.. Train acc: 0.320.. Valid acc: 0.336.. Train AUC: 0.858.. Valid AUC: 0.862.. \n",
      "Train AUC HexStar: 0.877.. Train AUC EllStar: 0.937.. Train AUC TEStarmarker: 0.899.. Train AUC Hexagon: 0.840.. Train AUC Star: 0.982.. Train AUC Ellipse: 0.948.. Train AUC Triangle: 0.733.. Train AUC Starmarker: 0.650..  \n",
      "Val AUC HexStar: 0.891.. Val AUC EllStar: 0.919.. Val AUC TEStarmarker: 0.902.. Val AUC Hexagon: 0.831.. Val AUC Star: 0.986.. Val AUC Ellipse: 0.928.. Val AUC Triangle: 0.750.. Val AUC Starmarker: 0.687.. \n",
      "Validation loss decreased (0.402930 --> 0.391010).  Saving model ...\n",
      "Epoch 21/100.. Train loss: 0.369.. Valid loss: 0.380.. Train acc: 0.340.. Valid acc: 0.357.. Train AUC: 0.864.. Valid AUC: 0.864.. \n",
      "Train AUC HexStar: 0.891.. Train AUC EllStar: 0.944.. Train AUC TEStarmarker: 0.898.. Train AUC Hexagon: 0.851.. Train AUC Star: 0.983.. Train AUC Ellipse: 0.952.. Train AUC Triangle: 0.732.. Train AUC Starmarker: 0.665..  \n",
      "Val AUC HexStar: 0.880.. Val AUC EllStar: 0.925.. Val AUC TEStarmarker: 0.907.. Val AUC Hexagon: 0.833.. Val AUC Star: 0.982.. Val AUC Ellipse: 0.937.. Val AUC Triangle: 0.743.. Val AUC Starmarker: 0.706.. \n",
      "Validation loss decreased (0.391010 --> 0.380082).  Saving model ...\n",
      "Epoch 22/100.. Train loss: 0.366.. Valid loss: 0.380.. Train acc: 0.341.. Valid acc: 0.365.. Train AUC: 0.863.. Valid AUC: 0.867.. \n",
      "Train AUC HexStar: 0.887.. Train AUC EllStar: 0.945.. Train AUC TEStarmarker: 0.897.. Train AUC Hexagon: 0.848.. Train AUC Star: 0.983.. Train AUC Ellipse: 0.954.. Train AUC Triangle: 0.724.. Train AUC Starmarker: 0.663..  \n",
      "Val AUC HexStar: 0.898.. Val AUC EllStar: 0.931.. Val AUC TEStarmarker: 0.902.. Val AUC Hexagon: 0.851.. Val AUC Star: 0.986.. Val AUC Ellipse: 0.938.. Val AUC Triangle: 0.737.. Val AUC Starmarker: 0.692.. \n",
      "EarlyStopping counter: 1 out of 20\n",
      "Epoch 23/100.. Train loss: 0.358.. Valid loss: 0.373.. Train acc: 0.365.. Valid acc: 0.395.. Train AUC: 0.870.. Valid AUC: 0.867.. \n",
      "Train AUC HexStar: 0.889.. Train AUC EllStar: 0.943.. Train AUC TEStarmarker: 0.913.. Train AUC Hexagon: 0.848.. Train AUC Star: 0.985.. Train AUC Ellipse: 0.957.. Train AUC Triangle: 0.739.. Train AUC Starmarker: 0.683..  \n",
      "Val AUC HexStar: 0.890.. Val AUC EllStar: 0.929.. Val AUC TEStarmarker: 0.913.. Val AUC Hexagon: 0.845.. Val AUC Star: 0.987.. Val AUC Ellipse: 0.939.. Val AUC Triangle: 0.734.. Val AUC Starmarker: 0.702.. \n",
      "Validation loss decreased (0.380082 --> 0.372972).  Saving model ...\n",
      "Epoch 24/100.. Train loss: 0.352.. Valid loss: 0.364.. Train acc: 0.384.. Valid acc: 0.395.. Train AUC: 0.874.. Valid AUC: 0.876.. \n",
      "Train AUC HexStar: 0.899.. Train AUC EllStar: 0.951.. Train AUC TEStarmarker: 0.908.. Train AUC Hexagon: 0.862.. Train AUC Star: 0.987.. Train AUC Ellipse: 0.964.. Train AUC Triangle: 0.736.. Train AUC Starmarker: 0.685..  \n",
      "Val AUC HexStar: 0.910.. Val AUC EllStar: 0.939.. Val AUC TEStarmarker: 0.917.. Val AUC Hexagon: 0.850.. Val AUC Star: 0.990.. Val AUC Ellipse: 0.951.. Val AUC Triangle: 0.747.. Val AUC Starmarker: 0.704.. \n",
      "Validation loss decreased (0.372972 --> 0.364071).  Saving model ...\n",
      "Epoch 25/100.. Train loss: 0.349.. Valid loss: 0.362.. Train acc: 0.391.. Valid acc: 0.414.. Train AUC: 0.878.. Valid AUC: 0.874.. \n",
      "Train AUC HexStar: 0.906.. Train AUC EllStar: 0.950.. Train AUC TEStarmarker: 0.915.. Train AUC Hexagon: 0.868.. Train AUC Star: 0.985.. Train AUC Ellipse: 0.961.. Train AUC Triangle: 0.743.. Train AUC Starmarker: 0.699..  \n",
      "Val AUC HexStar: 0.905.. Val AUC EllStar: 0.930.. Val AUC TEStarmarker: 0.914.. Val AUC Hexagon: 0.859.. Val AUC Star: 0.992.. Val AUC Ellipse: 0.949.. Val AUC Triangle: 0.734.. Val AUC Starmarker: 0.709.. \n",
      "Validation loss decreased (0.364071 --> 0.361589).  Saving model ...\n",
      "Epoch 26/100.. Train loss: 0.348.. Valid loss: 0.362.. Train acc: 0.391.. Valid acc: 0.399.. Train AUC: 0.882.. Valid AUC: 0.879.. \n",
      "Train AUC HexStar: 0.905.. Train AUC EllStar: 0.953.. Train AUC TEStarmarker: 0.916.. Train AUC Hexagon: 0.883.. Train AUC Star: 0.986.. Train AUC Ellipse: 0.964.. Train AUC Triangle: 0.746.. Train AUC Starmarker: 0.699..  \n",
      "Val AUC HexStar: 0.899.. Val AUC EllStar: 0.940.. Val AUC TEStarmarker: 0.922.. Val AUC Hexagon: 0.854.. Val AUC Star: 0.988.. Val AUC Ellipse: 0.950.. Val AUC Triangle: 0.761.. Val AUC Starmarker: 0.718.. \n",
      "EarlyStopping counter: 1 out of 20\n",
      "Epoch 27/100.. Train loss: 0.353.. Valid loss: 0.364.. Train acc: 0.373.. Valid acc: 0.381.. Train AUC: 0.875.. Valid AUC: 0.877.. \n",
      "Train AUC HexStar: 0.899.. Train AUC EllStar: 0.948.. Train AUC TEStarmarker: 0.920.. Train AUC Hexagon: 0.868.. Train AUC Star: 0.985.. Train AUC Ellipse: 0.962.. Train AUC Triangle: 0.747.. Train AUC Starmarker: 0.675..  \n",
      "Val AUC HexStar: 0.902.. Val AUC EllStar: 0.942.. Val AUC TEStarmarker: 0.922.. Val AUC Hexagon: 0.856.. Val AUC Star: 0.987.. Val AUC Ellipse: 0.953.. Val AUC Triangle: 0.752.. Val AUC Starmarker: 0.699.. \n",
      "EarlyStopping counter: 2 out of 20\n",
      "Epoch 28/100.. Train loss: 0.342.. Valid loss: 0.350.. Train acc: 0.394.. Valid acc: 0.398.. Train AUC: 0.883.. Valid AUC: 0.881.. \n",
      "Train AUC HexStar: 0.914.. Train AUC EllStar: 0.954.. Train AUC TEStarmarker: 0.918.. Train AUC Hexagon: 0.876.. Train AUC Star: 0.987.. Train AUC Ellipse: 0.966.. Train AUC Triangle: 0.751.. Train AUC Starmarker: 0.700..  \n",
      "Val AUC HexStar: 0.909.. Val AUC EllStar: 0.936.. Val AUC TEStarmarker: 0.926.. Val AUC Hexagon: 0.859.. Val AUC Star: 0.988.. Val AUC Ellipse: 0.952.. Val AUC Triangle: 0.758.. Val AUC Starmarker: 0.718.. \n",
      "Validation loss decreased (0.361589 --> 0.349915).  Saving model ...\n"
     ]
    },
    {
     "name": "stdout",
     "output_type": "stream",
     "text": [
      "Epoch 29/100.. Train loss: 0.336.. Valid loss: 0.356.. Train acc: 0.412.. Valid acc: 0.408.. Train AUC: 0.885.. Valid AUC: 0.883.. \n",
      "Train AUC HexStar: 0.914.. Train AUC EllStar: 0.957.. Train AUC TEStarmarker: 0.918.. Train AUC Hexagon: 0.882.. Train AUC Star: 0.989.. Train AUC Ellipse: 0.969.. Train AUC Triangle: 0.753.. Train AUC Starmarker: 0.697..  \n",
      "Val AUC HexStar: 0.910.. Val AUC EllStar: 0.941.. Val AUC TEStarmarker: 0.928.. Val AUC Hexagon: 0.864.. Val AUC Star: 0.994.. Val AUC Ellipse: 0.954.. Val AUC Triangle: 0.761.. Val AUC Starmarker: 0.712.. \n",
      "EarlyStopping counter: 1 out of 20\n",
      "Epoch 30/100.. Train loss: 0.336.. Valid loss: 0.338.. Train acc: 0.402.. Valid acc: 0.417.. Train AUC: 0.886.. Valid AUC: 0.887.. \n",
      "Train AUC HexStar: 0.910.. Train AUC EllStar: 0.957.. Train AUC TEStarmarker: 0.927.. Train AUC Hexagon: 0.879.. Train AUC Star: 0.988.. Train AUC Ellipse: 0.970.. Train AUC Triangle: 0.757.. Train AUC Starmarker: 0.699..  \n",
      "Val AUC HexStar: 0.906.. Val AUC EllStar: 0.948.. Val AUC TEStarmarker: 0.931.. Val AUC Hexagon: 0.866.. Val AUC Star: 0.993.. Val AUC Ellipse: 0.958.. Val AUC Triangle: 0.769.. Val AUC Starmarker: 0.722.. \n",
      "Validation loss decreased (0.349915 --> 0.338452).  Saving model ...\n",
      "Epoch 31/100.. Train loss: 0.330.. Valid loss: 0.338.. Train acc: 0.414.. Valid acc: 0.406.. Train AUC: 0.886.. Valid AUC: 0.891.. \n",
      "Train AUC HexStar: 0.910.. Train AUC EllStar: 0.958.. Train AUC TEStarmarker: 0.922.. Train AUC Hexagon: 0.883.. Train AUC Star: 0.989.. Train AUC Ellipse: 0.968.. Train AUC Triangle: 0.762.. Train AUC Starmarker: 0.697..  \n",
      "Val AUC HexStar: 0.925.. Val AUC EllStar: 0.949.. Val AUC TEStarmarker: 0.932.. Val AUC Hexagon: 0.881.. Val AUC Star: 0.992.. Val AUC Ellipse: 0.963.. Val AUC Triangle: 0.772.. Val AUC Starmarker: 0.716.. \n",
      "EarlyStopping counter: 1 out of 20\n",
      "Epoch 32/100.. Train loss: 0.331.. Valid loss: 0.333.. Train acc: 0.419.. Valid acc: 0.440.. Train AUC: 0.890.. Valid AUC: 0.893.. \n",
      "Train AUC HexStar: 0.914.. Train AUC EllStar: 0.959.. Train AUC TEStarmarker: 0.934.. Train AUC Hexagon: 0.893.. Train AUC Star: 0.989.. Train AUC Ellipse: 0.972.. Train AUC Triangle: 0.764.. Train AUC Starmarker: 0.698..  \n",
      "Val AUC HexStar: 0.917.. Val AUC EllStar: 0.954.. Val AUC TEStarmarker: 0.931.. Val AUC Hexagon: 0.884.. Val AUC Star: 0.991.. Val AUC Ellipse: 0.963.. Val AUC Triangle: 0.777.. Val AUC Starmarker: 0.730.. \n",
      "Validation loss decreased (0.338452 --> 0.332710).  Saving model ...\n",
      "Epoch 33/100.. Train loss: 0.325.. Valid loss: 0.334.. Train acc: 0.418.. Valid acc: 0.433.. Train AUC: 0.888.. Valid AUC: 0.890.. \n",
      "Train AUC HexStar: 0.914.. Train AUC EllStar: 0.963.. Train AUC TEStarmarker: 0.923.. Train AUC Hexagon: 0.898.. Train AUC Star: 0.991.. Train AUC Ellipse: 0.972.. Train AUC Triangle: 0.759.. Train AUC Starmarker: 0.688..  \n",
      "Val AUC HexStar: 0.917.. Val AUC EllStar: 0.954.. Val AUC TEStarmarker: 0.931.. Val AUC Hexagon: 0.887.. Val AUC Star: 0.991.. Val AUC Ellipse: 0.962.. Val AUC Triangle: 0.763.. Val AUC Starmarker: 0.712.. \n",
      "EarlyStopping counter: 1 out of 20\n",
      "Epoch 34/100.. Train loss: 0.325.. Valid loss: 0.339.. Train acc: 0.414.. Valid acc: 0.421.. Train AUC: 0.890.. Valid AUC: 0.897.. \n",
      "Train AUC HexStar: 0.924.. Train AUC EllStar: 0.967.. Train AUC TEStarmarker: 0.924.. Train AUC Hexagon: 0.904.. Train AUC Star: 0.988.. Train AUC Ellipse: 0.974.. Train AUC Triangle: 0.767.. Train AUC Starmarker: 0.674..  \n",
      "Val AUC HexStar: 0.920.. Val AUC EllStar: 0.954.. Val AUC TEStarmarker: 0.940.. Val AUC Hexagon: 0.889.. Val AUC Star: 0.992.. Val AUC Ellipse: 0.965.. Val AUC Triangle: 0.783.. Val AUC Starmarker: 0.730.. \n",
      "EarlyStopping counter: 2 out of 20\n",
      "Epoch 35/100.. Train loss: 0.314.. Valid loss: 0.327.. Train acc: 0.435.. Valid acc: 0.431.. Train AUC: 0.899.. Valid AUC: 0.897.. \n",
      "Train AUC HexStar: 0.927.. Train AUC EllStar: 0.967.. Train AUC TEStarmarker: 0.933.. Train AUC Hexagon: 0.912.. Train AUC Star: 0.989.. Train AUC Ellipse: 0.978.. Train AUC Triangle: 0.776.. Train AUC Starmarker: 0.710..  \n",
      "Val AUC HexStar: 0.921.. Val AUC EllStar: 0.953.. Val AUC TEStarmarker: 0.939.. Val AUC Hexagon: 0.895.. Val AUC Star: 0.993.. Val AUC Ellipse: 0.963.. Val AUC Triangle: 0.787.. Val AUC Starmarker: 0.723.. \n",
      "Validation loss decreased (0.332710 --> 0.327500).  Saving model ...\n",
      "Epoch 36/100.. Train loss: 0.311.. Valid loss: 0.321.. Train acc: 0.434.. Valid acc: 0.419.. Train AUC: 0.898.. Valid AUC: 0.897.. \n",
      "Train AUC HexStar: 0.928.. Train AUC EllStar: 0.968.. Train AUC TEStarmarker: 0.923.. Train AUC Hexagon: 0.916.. Train AUC Star: 0.988.. Train AUC Ellipse: 0.978.. Train AUC Triangle: 0.775.. Train AUC Starmarker: 0.704..  \n",
      "Val AUC HexStar: 0.924.. Val AUC EllStar: 0.960.. Val AUC TEStarmarker: 0.940.. Val AUC Hexagon: 0.898.. Val AUC Star: 0.992.. Val AUC Ellipse: 0.970.. Val AUC Triangle: 0.778.. Val AUC Starmarker: 0.716.. \n",
      "Validation loss decreased (0.327500 --> 0.320514).  Saving model ...\n",
      "Epoch 37/100.. Train loss: 0.307.. Valid loss: 0.313.. Train acc: 0.447.. Valid acc: 0.443.. Train AUC: 0.900.. Valid AUC: 0.907.. \n",
      "Train AUC HexStar: 0.927.. Train AUC EllStar: 0.971.. Train AUC TEStarmarker: 0.936.. Train AUC Hexagon: 0.916.. Train AUC Star: 0.990.. Train AUC Ellipse: 0.981.. Train AUC Triangle: 0.777.. Train AUC Starmarker: 0.705..  \n",
      "Val AUC HexStar: 0.938.. Val AUC EllStar: 0.963.. Val AUC TEStarmarker: 0.947.. Val AUC Hexagon: 0.913.. Val AUC Star: 0.995.. Val AUC Ellipse: 0.971.. Val AUC Triangle: 0.793.. Val AUC Starmarker: 0.733.. \n",
      "Validation loss decreased (0.320514 --> 0.313238).  Saving model ...\n",
      "Epoch 38/100.. Train loss: 0.301.. Valid loss: 0.316.. Train acc: 0.445.. Valid acc: 0.455.. Train AUC: 0.903.. Valid AUC: 0.906.. \n",
      "Train AUC HexStar: 0.928.. Train AUC EllStar: 0.972.. Train AUC TEStarmarker: 0.942.. Train AUC Hexagon: 0.922.. Train AUC Star: 0.989.. Train AUC Ellipse: 0.981.. Train AUC Triangle: 0.782.. Train AUC Starmarker: 0.707..  \n",
      "Val AUC HexStar: 0.936.. Val AUC EllStar: 0.960.. Val AUC TEStarmarker: 0.948.. Val AUC Hexagon: 0.916.. Val AUC Star: 0.990.. Val AUC Ellipse: 0.975.. Val AUC Triangle: 0.793.. Val AUC Starmarker: 0.727.. \n",
      "EarlyStopping counter: 1 out of 20\n",
      "Epoch 39/100.. Train loss: 0.306.. Valid loss: 0.320.. Train acc: 0.456.. Valid acc: 0.440.. Train AUC: 0.905.. Valid AUC: 0.903.. \n",
      "Train AUC HexStar: 0.934.. Train AUC EllStar: 0.972.. Train AUC TEStarmarker: 0.938.. Train AUC Hexagon: 0.923.. Train AUC Star: 0.989.. Train AUC Ellipse: 0.980.. Train AUC Triangle: 0.791.. Train AUC Starmarker: 0.716..  \n",
      "Val AUC HexStar: 0.936.. Val AUC EllStar: 0.957.. Val AUC TEStarmarker: 0.941.. Val AUC Hexagon: 0.918.. Val AUC Star: 0.991.. Val AUC Ellipse: 0.970.. Val AUC Triangle: 0.790.. Val AUC Starmarker: 0.718.. \n",
      "EarlyStopping counter: 2 out of 20\n",
      "Epoch 40/100.. Train loss: 0.295.. Valid loss: 0.307.. Train acc: 0.467.. Valid acc: 0.450.. Train AUC: 0.908.. Valid AUC: 0.910.. \n",
      "Train AUC HexStar: 0.938.. Train AUC EllStar: 0.975.. Train AUC TEStarmarker: 0.941.. Train AUC Hexagon: 0.933.. Train AUC Star: 0.992.. Train AUC Ellipse: 0.983.. Train AUC Triangle: 0.792.. Train AUC Starmarker: 0.710..  \n",
      "Val AUC HexStar: 0.943.. Val AUC EllStar: 0.965.. Val AUC TEStarmarker: 0.944.. Val AUC Hexagon: 0.926.. Val AUC Star: 0.991.. Val AUC Ellipse: 0.972.. Val AUC Triangle: 0.799.. Val AUC Starmarker: 0.738.. \n",
      "Validation loss decreased (0.313238 --> 0.307317).  Saving model ...\n",
      "Epoch 41/100.. Train loss: 0.292.. Valid loss: 0.305.. Train acc: 0.456.. Valid acc: 0.446.. Train AUC: 0.909.. Valid AUC: 0.911.. \n",
      "Train AUC HexStar: 0.942.. Train AUC EllStar: 0.976.. Train AUC TEStarmarker: 0.940.. Train AUC Hexagon: 0.939.. Train AUC Star: 0.989.. Train AUC Ellipse: 0.982.. Train AUC Triangle: 0.787.. Train AUC Starmarker: 0.717..  \n",
      "Val AUC HexStar: 0.943.. Val AUC EllStar: 0.965.. Val AUC TEStarmarker: 0.951.. Val AUC Hexagon: 0.932.. Val AUC Star: 0.995.. Val AUC Ellipse: 0.973.. Val AUC Triangle: 0.806.. Val AUC Starmarker: 0.723.. \n",
      "Validation loss decreased (0.307317 --> 0.305402).  Saving model ...\n",
      "Epoch 42/100.. Train loss: 0.291.. Valid loss: 0.299.. Train acc: 0.473.. Valid acc: 0.453.. Train AUC: 0.910.. Valid AUC: 0.912.. \n",
      "Train AUC HexStar: 0.945.. Train AUC EllStar: 0.977.. Train AUC TEStarmarker: 0.939.. Train AUC Hexagon: 0.944.. Train AUC Star: 0.988.. Train AUC Ellipse: 0.984.. Train AUC Triangle: 0.791.. Train AUC Starmarker: 0.713..  \n",
      "Val AUC HexStar: 0.947.. Val AUC EllStar: 0.960.. Val AUC TEStarmarker: 0.950.. Val AUC Hexagon: 0.937.. Val AUC Star: 0.993.. Val AUC Ellipse: 0.971.. Val AUC Triangle: 0.801.. Val AUC Starmarker: 0.736.. \n",
      "Validation loss decreased (0.305402 --> 0.299055).  Saving model ...\n"
     ]
    },
    {
     "name": "stdout",
     "output_type": "stream",
     "text": [
      "Epoch 43/100.. Train loss: 0.290.. Valid loss: 0.301.. Train acc: 0.469.. Valid acc: 0.448.. Train AUC: 0.912.. Valid AUC: 0.917.. \n",
      "Train AUC HexStar: 0.944.. Train AUC EllStar: 0.978.. Train AUC TEStarmarker: 0.939.. Train AUC Hexagon: 0.946.. Train AUC Star: 0.990.. Train AUC Ellipse: 0.982.. Train AUC Triangle: 0.798.. Train AUC Starmarker: 0.723..  \n",
      "Val AUC HexStar: 0.945.. Val AUC EllStar: 0.966.. Val AUC TEStarmarker: 0.958.. Val AUC Hexagon: 0.935.. Val AUC Star: 0.992.. Val AUC Ellipse: 0.977.. Val AUC Triangle: 0.823.. Val AUC Starmarker: 0.740.. \n",
      "EarlyStopping counter: 1 out of 20\n",
      "Epoch 44/100.. Train loss: 0.294.. Valid loss: 0.304.. Train acc: 0.479.. Valid acc: 0.478.. Train AUC: 0.911.. Valid AUC: 0.916.. \n",
      "Train AUC HexStar: 0.946.. Train AUC EllStar: 0.973.. Train AUC TEStarmarker: 0.938.. Train AUC Hexagon: 0.944.. Train AUC Star: 0.991.. Train AUC Ellipse: 0.983.. Train AUC Triangle: 0.802.. Train AUC Starmarker: 0.712..  \n",
      "Val AUC HexStar: 0.952.. Val AUC EllStar: 0.965.. Val AUC TEStarmarker: 0.950.. Val AUC Hexagon: 0.948.. Val AUC Star: 0.990.. Val AUC Ellipse: 0.977.. Val AUC Triangle: 0.809.. Val AUC Starmarker: 0.735.. \n",
      "EarlyStopping counter: 2 out of 20\n",
      "Epoch 45/100.. Train loss: 0.294.. Valid loss: 0.297.. Train acc: 0.464.. Valid acc: 0.443.. Train AUC: 0.913.. Valid AUC: 0.917.. \n",
      "Train AUC HexStar: 0.947.. Train AUC EllStar: 0.976.. Train AUC TEStarmarker: 0.946.. Train AUC Hexagon: 0.942.. Train AUC Star: 0.990.. Train AUC Ellipse: 0.984.. Train AUC Triangle: 0.805.. Train AUC Starmarker: 0.717..  \n",
      "Val AUC HexStar: 0.948.. Val AUC EllStar: 0.968.. Val AUC TEStarmarker: 0.949.. Val AUC Hexagon: 0.945.. Val AUC Star: 0.990.. Val AUC Ellipse: 0.976.. Val AUC Triangle: 0.816.. Val AUC Starmarker: 0.749.. \n",
      "Validation loss decreased (0.299055 --> 0.296782).  Saving model ...\n",
      "Epoch 46/100.. Train loss: 0.285.. Valid loss: 0.285.. Train acc: 0.475.. Valid acc: 0.473.. Train AUC: 0.914.. Valid AUC: 0.922.. \n",
      "Train AUC HexStar: 0.953.. Train AUC EllStar: 0.976.. Train AUC TEStarmarker: 0.938.. Train AUC Hexagon: 0.950.. Train AUC Star: 0.989.. Train AUC Ellipse: 0.984.. Train AUC Triangle: 0.801.. Train AUC Starmarker: 0.721..  \n",
      "Val AUC HexStar: 0.955.. Val AUC EllStar: 0.967.. Val AUC TEStarmarker: 0.954.. Val AUC Hexagon: 0.946.. Val AUC Star: 0.993.. Val AUC Ellipse: 0.978.. Val AUC Triangle: 0.822.. Val AUC Starmarker: 0.760.. \n",
      "Validation loss decreased (0.296782 --> 0.285247).  Saving model ...\n",
      "Epoch 47/100.. Train loss: 0.275.. Valid loss: 0.292.. Train acc: 0.494.. Valid acc: 0.482.. Train AUC: 0.920.. Valid AUC: 0.921.. \n",
      "Train AUC HexStar: 0.962.. Train AUC EllStar: 0.979.. Train AUC TEStarmarker: 0.945.. Train AUC Hexagon: 0.960.. Train AUC Star: 0.990.. Train AUC Ellipse: 0.985.. Train AUC Triangle: 0.812.. Train AUC Starmarker: 0.729..  \n",
      "Val AUC HexStar: 0.960.. Val AUC EllStar: 0.966.. Val AUC TEStarmarker: 0.953.. Val AUC Hexagon: 0.955.. Val AUC Star: 0.991.. Val AUC Ellipse: 0.975.. Val AUC Triangle: 0.816.. Val AUC Starmarker: 0.753.. \n",
      "EarlyStopping counter: 1 out of 20\n",
      "Epoch 48/100.. Train loss: 0.276.. Valid loss: 0.298.. Train acc: 0.501.. Valid acc: 0.438.. Train AUC: 0.918.. Valid AUC: 0.923.. \n",
      "Train AUC HexStar: 0.960.. Train AUC EllStar: 0.977.. Train AUC TEStarmarker: 0.942.. Train AUC Hexagon: 0.959.. Train AUC Star: 0.991.. Train AUC Ellipse: 0.985.. Train AUC Triangle: 0.805.. Train AUC Starmarker: 0.725..  \n",
      "Val AUC HexStar: 0.957.. Val AUC EllStar: 0.970.. Val AUC TEStarmarker: 0.958.. Val AUC Hexagon: 0.943.. Val AUC Star: 0.992.. Val AUC Ellipse: 0.979.. Val AUC Triangle: 0.817.. Val AUC Starmarker: 0.769.. \n",
      "EarlyStopping counter: 2 out of 20\n",
      "Epoch 49/100.. Train loss: 0.271.. Valid loss: 0.286.. Train acc: 0.505.. Valid acc: 0.470.. Train AUC: 0.920.. Valid AUC: 0.923.. \n",
      "Train AUC HexStar: 0.960.. Train AUC EllStar: 0.976.. Train AUC TEStarmarker: 0.945.. Train AUC Hexagon: 0.961.. Train AUC Star: 0.990.. Train AUC Ellipse: 0.984.. Train AUC Triangle: 0.818.. Train AUC Starmarker: 0.729..  \n",
      "Val AUC HexStar: 0.955.. Val AUC EllStar: 0.966.. Val AUC TEStarmarker: 0.957.. Val AUC Hexagon: 0.954.. Val AUC Star: 0.989.. Val AUC Ellipse: 0.977.. Val AUC Triangle: 0.834.. Val AUC Starmarker: 0.753.. \n",
      "EarlyStopping counter: 3 out of 20\n",
      "Epoch 50/100.. Train loss: 0.268.. Valid loss: 0.298.. Train acc: 0.489.. Valid acc: 0.472.. Train AUC: 0.922.. Valid AUC: 0.921.. \n",
      "Train AUC HexStar: 0.962.. Train AUC EllStar: 0.981.. Train AUC TEStarmarker: 0.943.. Train AUC Hexagon: 0.961.. Train AUC Star: 0.992.. Train AUC Ellipse: 0.985.. Train AUC Triangle: 0.816.. Train AUC Starmarker: 0.738..  \n",
      "Val AUC HexStar: 0.958.. Val AUC EllStar: 0.965.. Val AUC TEStarmarker: 0.946.. Val AUC Hexagon: 0.956.. Val AUC Star: 0.989.. Val AUC Ellipse: 0.976.. Val AUC Triangle: 0.815.. Val AUC Starmarker: 0.761.. \n",
      "EarlyStopping counter: 4 out of 20\n",
      "Epoch 51/100.. Train loss: 0.271.. Valid loss: 0.296.. Train acc: 0.514.. Valid acc: 0.469.. Train AUC: 0.923.. Valid AUC: 0.922.. \n",
      "Train AUC HexStar: 0.958.. Train AUC EllStar: 0.979.. Train AUC TEStarmarker: 0.948.. Train AUC Hexagon: 0.962.. Train AUC Star: 0.992.. Train AUC Ellipse: 0.986.. Train AUC Triangle: 0.816.. Train AUC Starmarker: 0.740..  \n",
      "Val AUC HexStar: 0.955.. Val AUC EllStar: 0.965.. Val AUC TEStarmarker: 0.954.. Val AUC Hexagon: 0.951.. Val AUC Star: 0.988.. Val AUC Ellipse: 0.978.. Val AUC Triangle: 0.822.. Val AUC Starmarker: 0.766.. \n",
      "EarlyStopping counter: 5 out of 20\n",
      "Epoch 52/100.. Train loss: 0.266.. Valid loss: 0.276.. Train acc: 0.509.. Valid acc: 0.489.. Train AUC: 0.926.. Valid AUC: 0.928.. \n",
      "Train AUC HexStar: 0.965.. Train AUC EllStar: 0.978.. Train AUC TEStarmarker: 0.942.. Train AUC Hexagon: 0.963.. Train AUC Star: 0.991.. Train AUC Ellipse: 0.984.. Train AUC Triangle: 0.825.. Train AUC Starmarker: 0.759..  \n",
      "Val AUC HexStar: 0.962.. Val AUC EllStar: 0.968.. Val AUC TEStarmarker: 0.957.. Val AUC Hexagon: 0.959.. Val AUC Star: 0.993.. Val AUC Ellipse: 0.978.. Val AUC Triangle: 0.829.. Val AUC Starmarker: 0.782.. \n",
      "Validation loss decreased (0.285247 --> 0.275903).  Saving model ...\n",
      "Epoch 53/100.. Train loss: 0.255.. Valid loss: 0.287.. Train acc: 0.513.. Valid acc: 0.475.. Train AUC: 0.929.. Valid AUC: 0.931.. \n",
      "Train AUC HexStar: 0.968.. Train AUC EllStar: 0.983.. Train AUC TEStarmarker: 0.950.. Train AUC Hexagon: 0.966.. Train AUC Star: 0.992.. Train AUC Ellipse: 0.988.. Train AUC Triangle: 0.818.. Train AUC Starmarker: 0.769..  \n",
      "Val AUC HexStar: 0.963.. Val AUC EllStar: 0.963.. Val AUC TEStarmarker: 0.962.. Val AUC Hexagon: 0.967.. Val AUC Star: 0.988.. Val AUC Ellipse: 0.975.. Val AUC Triangle: 0.836.. Val AUC Starmarker: 0.799.. \n",
      "EarlyStopping counter: 1 out of 20\n",
      "Epoch 54/100.. Train loss: 0.254.. Valid loss: 0.282.. Train acc: 0.525.. Valid acc: 0.494.. Train AUC: 0.929.. Valid AUC: 0.930.. \n",
      "Train AUC HexStar: 0.968.. Train AUC EllStar: 0.982.. Train AUC TEStarmarker: 0.947.. Train AUC Hexagon: 0.970.. Train AUC Star: 0.992.. Train AUC Ellipse: 0.987.. Train AUC Triangle: 0.823.. Train AUC Starmarker: 0.766..  \n",
      "Val AUC HexStar: 0.956.. Val AUC EllStar: 0.973.. Val AUC TEStarmarker: 0.957.. Val AUC Hexagon: 0.959.. Val AUC Star: 0.990.. Val AUC Ellipse: 0.981.. Val AUC Triangle: 0.838.. Val AUC Starmarker: 0.786.. \n",
      "EarlyStopping counter: 2 out of 20\n",
      "Epoch 55/100.. Train loss: 0.255.. Valid loss: 0.275.. Train acc: 0.527.. Valid acc: 0.494.. Train AUC: 0.929.. Valid AUC: 0.930.. \n",
      "Train AUC HexStar: 0.970.. Train AUC EllStar: 0.981.. Train AUC TEStarmarker: 0.942.. Train AUC Hexagon: 0.970.. Train AUC Star: 0.993.. Train AUC Ellipse: 0.987.. Train AUC Triangle: 0.822.. Train AUC Starmarker: 0.767..  \n",
      "Val AUC HexStar: 0.961.. Val AUC EllStar: 0.969.. Val AUC TEStarmarker: 0.955.. Val AUC Hexagon: 0.955.. Val AUC Star: 0.992.. Val AUC Ellipse: 0.978.. Val AUC Triangle: 0.835.. Val AUC Starmarker: 0.794.. \n",
      "Validation loss decreased (0.275903 --> 0.274623).  Saving model ...\n",
      "Epoch 56/100.. Train loss: 0.251.. Valid loss: 0.264.. Train acc: 0.529.. Valid acc: 0.507.. Train AUC: 0.931.. Valid AUC: 0.932.. \n",
      "Train AUC HexStar: 0.969.. Train AUC EllStar: 0.987.. Train AUC TEStarmarker: 0.947.. Train AUC Hexagon: 0.969.. Train AUC Star: 0.994.. Train AUC Ellipse: 0.990.. Train AUC Triangle: 0.824.. Train AUC Starmarker: 0.772..  \n",
      "Val AUC HexStar: 0.968.. Val AUC EllStar: 0.969.. Val AUC TEStarmarker: 0.957.. Val AUC Hexagon: 0.963.. Val AUC Star: 0.994.. Val AUC Ellipse: 0.980.. Val AUC Triangle: 0.830.. Val AUC Starmarker: 0.791.. \n",
      "Validation loss decreased (0.274623 --> 0.263743).  Saving model ...\n"
     ]
    },
    {
     "name": "stdout",
     "output_type": "stream",
     "text": [
      "Epoch 57/100.. Train loss: 0.258.. Valid loss: 0.280.. Train acc: 0.529.. Valid acc: 0.499.. Train AUC: 0.930.. Valid AUC: 0.930.. \n",
      "Train AUC HexStar: 0.966.. Train AUC EllStar: 0.980.. Train AUC TEStarmarker: 0.947.. Train AUC Hexagon: 0.970.. Train AUC Star: 0.993.. Train AUC Ellipse: 0.986.. Train AUC Triangle: 0.827.. Train AUC Starmarker: 0.767..  \n",
      "Val AUC HexStar: 0.964.. Val AUC EllStar: 0.966.. Val AUC TEStarmarker: 0.955.. Val AUC Hexagon: 0.962.. Val AUC Star: 0.991.. Val AUC Ellipse: 0.979.. Val AUC Triangle: 0.828.. Val AUC Starmarker: 0.799.. \n",
      "EarlyStopping counter: 1 out of 20\n",
      "Epoch 58/100.. Train loss: 0.251.. Valid loss: 0.268.. Train acc: 0.540.. Valid acc: 0.500.. Train AUC: 0.934.. Valid AUC: 0.933.. \n",
      "Train AUC HexStar: 0.972.. Train AUC EllStar: 0.983.. Train AUC TEStarmarker: 0.950.. Train AUC Hexagon: 0.975.. Train AUC Star: 0.992.. Train AUC Ellipse: 0.989.. Train AUC Triangle: 0.824.. Train AUC Starmarker: 0.784..  \n",
      "Val AUC HexStar: 0.967.. Val AUC EllStar: 0.973.. Val AUC TEStarmarker: 0.962.. Val AUC Hexagon: 0.960.. Val AUC Star: 0.994.. Val AUC Ellipse: 0.981.. Val AUC Triangle: 0.829.. Val AUC Starmarker: 0.798.. \n",
      "EarlyStopping counter: 2 out of 20\n",
      "Epoch 59/100.. Train loss: 0.247.. Valid loss: 0.264.. Train acc: 0.536.. Valid acc: 0.526.. Train AUC: 0.934.. Valid AUC: 0.932.. \n",
      "Train AUC HexStar: 0.974.. Train AUC EllStar: 0.983.. Train AUC TEStarmarker: 0.947.. Train AUC Hexagon: 0.976.. Train AUC Star: 0.993.. Train AUC Ellipse: 0.987.. Train AUC Triangle: 0.829.. Train AUC Starmarker: 0.786..  \n",
      "Val AUC HexStar: 0.968.. Val AUC EllStar: 0.971.. Val AUC TEStarmarker: 0.956.. Val AUC Hexagon: 0.966.. Val AUC Star: 0.994.. Val AUC Ellipse: 0.981.. Val AUC Triangle: 0.832.. Val AUC Starmarker: 0.788.. \n",
      "EarlyStopping counter: 3 out of 20\n",
      "Epoch 60/100.. Train loss: 0.248.. Valid loss: 0.278.. Train acc: 0.540.. Valid acc: 0.501.. Train AUC: 0.934.. Valid AUC: 0.931.. \n",
      "Train AUC HexStar: 0.969.. Train AUC EllStar: 0.981.. Train AUC TEStarmarker: 0.949.. Train AUC Hexagon: 0.969.. Train AUC Star: 0.992.. Train AUC Ellipse: 0.987.. Train AUC Triangle: 0.834.. Train AUC Starmarker: 0.791..  \n",
      "Val AUC HexStar: 0.967.. Val AUC EllStar: 0.963.. Val AUC TEStarmarker: 0.956.. Val AUC Hexagon: 0.971.. Val AUC Star: 0.990.. Val AUC Ellipse: 0.978.. Val AUC Triangle: 0.826.. Val AUC Starmarker: 0.800.. \n",
      "EarlyStopping counter: 4 out of 20\n",
      "Epoch 61/100.. Train loss: 0.249.. Valid loss: 0.271.. Train acc: 0.549.. Valid acc: 0.502.. Train AUC: 0.933.. Valid AUC: 0.933.. \n",
      "Train AUC HexStar: 0.972.. Train AUC EllStar: 0.982.. Train AUC TEStarmarker: 0.945.. Train AUC Hexagon: 0.973.. Train AUC Star: 0.991.. Train AUC Ellipse: 0.987.. Train AUC Triangle: 0.825.. Train AUC Starmarker: 0.789..  \n",
      "Val AUC HexStar: 0.964.. Val AUC EllStar: 0.972.. Val AUC TEStarmarker: 0.957.. Val AUC Hexagon: 0.964.. Val AUC Star: 0.993.. Val AUC Ellipse: 0.980.. Val AUC Triangle: 0.834.. Val AUC Starmarker: 0.805.. \n",
      "EarlyStopping counter: 5 out of 20\n",
      "Epoch 62/100.. Train loss: 0.242.. Valid loss: 0.267.. Train acc: 0.543.. Valid acc: 0.529.. Train AUC: 0.938.. Valid AUC: 0.936.. \n",
      "Train AUC HexStar: 0.975.. Train AUC EllStar: 0.986.. Train AUC TEStarmarker: 0.950.. Train AUC Hexagon: 0.973.. Train AUC Star: 0.994.. Train AUC Ellipse: 0.990.. Train AUC Triangle: 0.832.. Train AUC Starmarker: 0.804..  \n",
      "Val AUC HexStar: 0.970.. Val AUC EllStar: 0.972.. Val AUC TEStarmarker: 0.958.. Val AUC Hexagon: 0.964.. Val AUC Star: 0.994.. Val AUC Ellipse: 0.980.. Val AUC Triangle: 0.837.. Val AUC Starmarker: 0.811.. \n",
      "EarlyStopping counter: 6 out of 20\n",
      "Epoch 63/100.. Train loss: 0.242.. Valid loss: 0.266.. Train acc: 0.529.. Valid acc: 0.519.. Train AUC: 0.939.. Valid AUC: 0.938.. \n",
      "Train AUC HexStar: 0.973.. Train AUC EllStar: 0.985.. Train AUC TEStarmarker: 0.953.. Train AUC Hexagon: 0.972.. Train AUC Star: 0.993.. Train AUC Ellipse: 0.989.. Train AUC Triangle: 0.840.. Train AUC Starmarker: 0.806..  \n",
      "Val AUC HexStar: 0.964.. Val AUC EllStar: 0.971.. Val AUC TEStarmarker: 0.958.. Val AUC Hexagon: 0.962.. Val AUC Star: 0.992.. Val AUC Ellipse: 0.981.. Val AUC Triangle: 0.838.. Val AUC Starmarker: 0.836.. \n",
      "EarlyStopping counter: 7 out of 20\n",
      "Epoch 64/100.. Train loss: 0.243.. Valid loss: 0.261.. Train acc: 0.530.. Valid acc: 0.518.. Train AUC: 0.938.. Valid AUC: 0.936.. \n",
      "Train AUC HexStar: 0.974.. Train AUC EllStar: 0.984.. Train AUC TEStarmarker: 0.951.. Train AUC Hexagon: 0.975.. Train AUC Star: 0.993.. Train AUC Ellipse: 0.988.. Train AUC Triangle: 0.831.. Train AUC Starmarker: 0.807..  \n",
      "Val AUC HexStar: 0.966.. Val AUC EllStar: 0.971.. Val AUC TEStarmarker: 0.953.. Val AUC Hexagon: 0.970.. Val AUC Star: 0.991.. Val AUC Ellipse: 0.979.. Val AUC Triangle: 0.837.. Val AUC Starmarker: 0.821.. \n",
      "Validation loss decreased (0.263743 --> 0.260799).  Saving model ...\n",
      "Epoch 65/100.. Train loss: 0.239.. Valid loss: 0.264.. Train acc: 0.554.. Valid acc: 0.524.. Train AUC: 0.940.. Valid AUC: 0.936.. \n",
      "Train AUC HexStar: 0.972.. Train AUC EllStar: 0.985.. Train AUC TEStarmarker: 0.954.. Train AUC Hexagon: 0.974.. Train AUC Star: 0.993.. Train AUC Ellipse: 0.989.. Train AUC Triangle: 0.841.. Train AUC Starmarker: 0.816..  \n",
      "Val AUC HexStar: 0.962.. Val AUC EllStar: 0.974.. Val AUC TEStarmarker: 0.960.. Val AUC Hexagon: 0.966.. Val AUC Star: 0.990.. Val AUC Ellipse: 0.982.. Val AUC Triangle: 0.838.. Val AUC Starmarker: 0.819.. \n",
      "EarlyStopping counter: 1 out of 20\n",
      "Epoch 66/100.. Train loss: 0.228.. Valid loss: 0.256.. Train acc: 0.563.. Valid acc: 0.520.. Train AUC: 0.943.. Valid AUC: 0.939.. \n",
      "Train AUC HexStar: 0.979.. Train AUC EllStar: 0.989.. Train AUC TEStarmarker: 0.952.. Train AUC Hexagon: 0.978.. Train AUC Star: 0.994.. Train AUC Ellipse: 0.989.. Train AUC Triangle: 0.846.. Train AUC Starmarker: 0.820..  \n",
      "Val AUC HexStar: 0.967.. Val AUC EllStar: 0.974.. Val AUC TEStarmarker: 0.958.. Val AUC Hexagon: 0.968.. Val AUC Star: 0.992.. Val AUC Ellipse: 0.981.. Val AUC Triangle: 0.842.. Val AUC Starmarker: 0.828.. \n",
      "Validation loss decreased (0.260799 --> 0.255920).  Saving model ...\n",
      "Epoch 67/100.. Train loss: 0.235.. Valid loss: 0.249.. Train acc: 0.561.. Valid acc: 0.531.. Train AUC: 0.941.. Valid AUC: 0.940.. \n",
      "Train AUC HexStar: 0.974.. Train AUC EllStar: 0.985.. Train AUC TEStarmarker: 0.951.. Train AUC Hexagon: 0.975.. Train AUC Star: 0.995.. Train AUC Ellipse: 0.987.. Train AUC Triangle: 0.840.. Train AUC Starmarker: 0.819..  \n",
      "Val AUC HexStar: 0.967.. Val AUC EllStar: 0.973.. Val AUC TEStarmarker: 0.957.. Val AUC Hexagon: 0.971.. Val AUC Star: 0.991.. Val AUC Ellipse: 0.980.. Val AUC Triangle: 0.846.. Val AUC Starmarker: 0.833.. \n",
      "Validation loss decreased (0.255920 --> 0.249180).  Saving model ...\n",
      "Epoch 68/100.. Train loss: 0.227.. Valid loss: 0.261.. Train acc: 0.557.. Valid acc: 0.528.. Train AUC: 0.943.. Valid AUC: 0.940.. \n",
      "Train AUC HexStar: 0.980.. Train AUC EllStar: 0.988.. Train AUC TEStarmarker: 0.955.. Train AUC Hexagon: 0.981.. Train AUC Star: 0.993.. Train AUC Ellipse: 0.992.. Train AUC Triangle: 0.836.. Train AUC Starmarker: 0.820..  \n",
      "Val AUC HexStar: 0.968.. Val AUC EllStar: 0.976.. Val AUC TEStarmarker: 0.961.. Val AUC Hexagon: 0.968.. Val AUC Star: 0.993.. Val AUC Ellipse: 0.982.. Val AUC Triangle: 0.838.. Val AUC Starmarker: 0.831.. \n",
      "EarlyStopping counter: 1 out of 20\n",
      "Epoch 69/100.. Train loss: 0.233.. Valid loss: 0.262.. Train acc: 0.564.. Valid acc: 0.495.. Train AUC: 0.942.. Valid AUC: 0.939.. \n",
      "Train AUC HexStar: 0.974.. Train AUC EllStar: 0.984.. Train AUC TEStarmarker: 0.954.. Train AUC Hexagon: 0.973.. Train AUC Star: 0.994.. Train AUC Ellipse: 0.989.. Train AUC Triangle: 0.843.. Train AUC Starmarker: 0.825..  \n",
      "Val AUC HexStar: 0.966.. Val AUC EllStar: 0.976.. Val AUC TEStarmarker: 0.959.. Val AUC Hexagon: 0.966.. Val AUC Star: 0.994.. Val AUC Ellipse: 0.981.. Val AUC Triangle: 0.839.. Val AUC Starmarker: 0.829.. \n",
      "EarlyStopping counter: 2 out of 20\n",
      "Epoch 70/100.. Train loss: 0.233.. Valid loss: 0.245.. Train acc: 0.569.. Valid acc: 0.546.. Train AUC: 0.943.. Valid AUC: 0.943.. \n",
      "Train AUC HexStar: 0.980.. Train AUC EllStar: 0.983.. Train AUC TEStarmarker: 0.952.. Train AUC Hexagon: 0.980.. Train AUC Star: 0.994.. Train AUC Ellipse: 0.989.. Train AUC Triangle: 0.840.. Train AUC Starmarker: 0.825..  \n",
      "Val AUC HexStar: 0.973.. Val AUC EllStar: 0.973.. Val AUC TEStarmarker: 0.961.. Val AUC Hexagon: 0.973.. Val AUC Star: 0.992.. Val AUC Ellipse: 0.983.. Val AUC Triangle: 0.841.. Val AUC Starmarker: 0.844.. \n",
      "Validation loss decreased (0.249180 --> 0.244911).  Saving model ...\n"
     ]
    },
    {
     "name": "stdout",
     "output_type": "stream",
     "text": [
      "Epoch 71/100.. Train loss: 0.222.. Valid loss: 0.246.. Train acc: 0.571.. Valid acc: 0.552.. Train AUC: 0.943.. Valid AUC: 0.940.. \n",
      "Train AUC HexStar: 0.982.. Train AUC EllStar: 0.986.. Train AUC TEStarmarker: 0.953.. Train AUC Hexagon: 0.980.. Train AUC Star: 0.996.. Train AUC Ellipse: 0.989.. Train AUC Triangle: 0.838.. Train AUC Starmarker: 0.824..  \n",
      "Val AUC HexStar: 0.969.. Val AUC EllStar: 0.976.. Val AUC TEStarmarker: 0.959.. Val AUC Hexagon: 0.973.. Val AUC Star: 0.991.. Val AUC Ellipse: 0.984.. Val AUC Triangle: 0.830.. Val AUC Starmarker: 0.835.. \n",
      "EarlyStopping counter: 1 out of 20\n",
      "Epoch 72/100.. Train loss: 0.227.. Valid loss: 0.240.. Train acc: 0.579.. Valid acc: 0.555.. Train AUC: 0.943.. Valid AUC: 0.942.. \n",
      "Train AUC HexStar: 0.978.. Train AUC EllStar: 0.986.. Train AUC TEStarmarker: 0.954.. Train AUC Hexagon: 0.979.. Train AUC Star: 0.993.. Train AUC Ellipse: 0.991.. Train AUC Triangle: 0.836.. Train AUC Starmarker: 0.823..  \n",
      "Val AUC HexStar: 0.972.. Val AUC EllStar: 0.980.. Val AUC TEStarmarker: 0.966.. Val AUC Hexagon: 0.973.. Val AUC Star: 0.994.. Val AUC Ellipse: 0.987.. Val AUC Triangle: 0.839.. Val AUC Starmarker: 0.829.. \n",
      "Validation loss decreased (0.244911 --> 0.240111).  Saving model ...\n",
      "Epoch 73/100.. Train loss: 0.227.. Valid loss: 0.244.. Train acc: 0.539.. Valid acc: 0.520.. Train AUC: 0.941.. Valid AUC: 0.941.. \n",
      "Train AUC HexStar: 0.981.. Train AUC EllStar: 0.988.. Train AUC TEStarmarker: 0.953.. Train AUC Hexagon: 0.978.. Train AUC Star: 0.994.. Train AUC Ellipse: 0.991.. Train AUC Triangle: 0.841.. Train AUC Starmarker: 0.802..  \n",
      "Val AUC HexStar: 0.975.. Val AUC EllStar: 0.976.. Val AUC TEStarmarker: 0.958.. Val AUC Hexagon: 0.975.. Val AUC Star: 0.993.. Val AUC Ellipse: 0.983.. Val AUC Triangle: 0.843.. Val AUC Starmarker: 0.828.. \n",
      "EarlyStopping counter: 1 out of 20\n",
      "Epoch 74/100.. Train loss: 0.222.. Valid loss: 0.239.. Train acc: 0.573.. Valid acc: 0.546.. Train AUC: 0.946.. Valid AUC: 0.942.. \n",
      "Train AUC HexStar: 0.978.. Train AUC EllStar: 0.989.. Train AUC TEStarmarker: 0.957.. Train AUC Hexagon: 0.979.. Train AUC Star: 0.995.. Train AUC Ellipse: 0.991.. Train AUC Triangle: 0.850.. Train AUC Starmarker: 0.832..  \n",
      "Val AUC HexStar: 0.971.. Val AUC EllStar: 0.976.. Val AUC TEStarmarker: 0.965.. Val AUC Hexagon: 0.970.. Val AUC Star: 0.996.. Val AUC Ellipse: 0.984.. Val AUC Triangle: 0.839.. Val AUC Starmarker: 0.835.. \n",
      "Validation loss decreased (0.240111 --> 0.238847).  Saving model ...\n",
      "Epoch 75/100.. Train loss: 0.219.. Valid loss: 0.253.. Train acc: 0.577.. Valid acc: 0.546.. Train AUC: 0.946.. Valid AUC: 0.943.. \n",
      "Train AUC HexStar: 0.979.. Train AUC EllStar: 0.988.. Train AUC TEStarmarker: 0.954.. Train AUC Hexagon: 0.978.. Train AUC Star: 0.995.. Train AUC Ellipse: 0.990.. Train AUC Triangle: 0.845.. Train AUC Starmarker: 0.838..  \n",
      "Val AUC HexStar: 0.969.. Val AUC EllStar: 0.975.. Val AUC TEStarmarker: 0.961.. Val AUC Hexagon: 0.970.. Val AUC Star: 0.991.. Val AUC Ellipse: 0.984.. Val AUC Triangle: 0.844.. Val AUC Starmarker: 0.850.. \n",
      "EarlyStopping counter: 1 out of 20\n",
      "Epoch 76/100.. Train loss: 0.220.. Valid loss: 0.236.. Train acc: 0.593.. Valid acc: 0.547.. Train AUC: 0.948.. Valid AUC: 0.947.. \n",
      "Train AUC HexStar: 0.981.. Train AUC EllStar: 0.989.. Train AUC TEStarmarker: 0.956.. Train AUC Hexagon: 0.982.. Train AUC Star: 0.996.. Train AUC Ellipse: 0.992.. Train AUC Triangle: 0.847.. Train AUC Starmarker: 0.839..  \n",
      "Val AUC HexStar: 0.973.. Val AUC EllStar: 0.979.. Val AUC TEStarmarker: 0.964.. Val AUC Hexagon: 0.973.. Val AUC Star: 0.995.. Val AUC Ellipse: 0.984.. Val AUC Triangle: 0.856.. Val AUC Starmarker: 0.850.. \n",
      "Validation loss decreased (0.238847 --> 0.236413).  Saving model ...\n",
      "Epoch 77/100.. Train loss: 0.215.. Valid loss: 0.239.. Train acc: 0.593.. Valid acc: 0.560.. Train AUC: 0.948.. Valid AUC: 0.946.. \n",
      "Train AUC HexStar: 0.982.. Train AUC EllStar: 0.988.. Train AUC TEStarmarker: 0.953.. Train AUC Hexagon: 0.982.. Train AUC Star: 0.996.. Train AUC Ellipse: 0.990.. Train AUC Triangle: 0.852.. Train AUC Starmarker: 0.840..  \n",
      "Val AUC HexStar: 0.973.. Val AUC EllStar: 0.978.. Val AUC TEStarmarker: 0.961.. Val AUC Hexagon: 0.973.. Val AUC Star: 0.994.. Val AUC Ellipse: 0.983.. Val AUC Triangle: 0.850.. Val AUC Starmarker: 0.858.. \n",
      "EarlyStopping counter: 1 out of 20\n",
      "Epoch 78/100.. Train loss: 0.212.. Valid loss: 0.246.. Train acc: 0.584.. Valid acc: 0.543.. Train AUC: 0.950.. Valid AUC: 0.945.. \n",
      "Train AUC HexStar: 0.982.. Train AUC EllStar: 0.988.. Train AUC TEStarmarker: 0.960.. Train AUC Hexagon: 0.984.. Train AUC Star: 0.997.. Train AUC Ellipse: 0.991.. Train AUC Triangle: 0.853.. Train AUC Starmarker: 0.845..  \n",
      "Val AUC HexStar: 0.972.. Val AUC EllStar: 0.979.. Val AUC TEStarmarker: 0.962.. Val AUC Hexagon: 0.976.. Val AUC Star: 0.993.. Val AUC Ellipse: 0.983.. Val AUC Triangle: 0.842.. Val AUC Starmarker: 0.855.. \n",
      "EarlyStopping counter: 2 out of 20\n",
      "Epoch 79/100.. Train loss: 0.221.. Valid loss: 0.253.. Train acc: 0.574.. Valid acc: 0.539.. Train AUC: 0.949.. Valid AUC: 0.945.. \n",
      "Train AUC HexStar: 0.980.. Train AUC EllStar: 0.988.. Train AUC TEStarmarker: 0.954.. Train AUC Hexagon: 0.982.. Train AUC Star: 0.994.. Train AUC Ellipse: 0.991.. Train AUC Triangle: 0.855.. Train AUC Starmarker: 0.845..  \n",
      "Val AUC HexStar: 0.974.. Val AUC EllStar: 0.970.. Val AUC TEStarmarker: 0.967.. Val AUC Hexagon: 0.975.. Val AUC Star: 0.995.. Val AUC Ellipse: 0.984.. Val AUC Triangle: 0.848.. Val AUC Starmarker: 0.845.. \n",
      "EarlyStopping counter: 3 out of 20\n",
      "Epoch 80/100.. Train loss: 0.215.. Valid loss: 0.237.. Train acc: 0.591.. Valid acc: 0.554.. Train AUC: 0.950.. Valid AUC: 0.947.. \n",
      "Train AUC HexStar: 0.982.. Train AUC EllStar: 0.989.. Train AUC TEStarmarker: 0.957.. Train AUC Hexagon: 0.981.. Train AUC Star: 0.994.. Train AUC Ellipse: 0.992.. Train AUC Triangle: 0.853.. Train AUC Starmarker: 0.849..  \n",
      "Val AUC HexStar: 0.975.. Val AUC EllStar: 0.977.. Val AUC TEStarmarker: 0.964.. Val AUC Hexagon: 0.974.. Val AUC Star: 0.993.. Val AUC Ellipse: 0.983.. Val AUC Triangle: 0.848.. Val AUC Starmarker: 0.858.. \n",
      "EarlyStopping counter: 4 out of 20\n",
      "Epoch 81/100.. Train loss: 0.209.. Valid loss: 0.241.. Train acc: 0.603.. Valid acc: 0.534.. Train AUC: 0.951.. Valid AUC: 0.944.. \n",
      "Train AUC HexStar: 0.983.. Train AUC EllStar: 0.988.. Train AUC TEStarmarker: 0.959.. Train AUC Hexagon: 0.984.. Train AUC Star: 0.995.. Train AUC Ellipse: 0.992.. Train AUC Triangle: 0.855.. Train AUC Starmarker: 0.849..  \n",
      "Val AUC HexStar: 0.976.. Val AUC EllStar: 0.978.. Val AUC TEStarmarker: 0.959.. Val AUC Hexagon: 0.977.. Val AUC Star: 0.993.. Val AUC Ellipse: 0.983.. Val AUC Triangle: 0.839.. Val AUC Starmarker: 0.847.. \n",
      "EarlyStopping counter: 5 out of 20\n",
      "Epoch 82/100.. Train loss: 0.215.. Valid loss: 0.235.. Train acc: 0.594.. Valid acc: 0.574.. Train AUC: 0.949.. Valid AUC: 0.947.. \n",
      "Train AUC HexStar: 0.980.. Train AUC EllStar: 0.987.. Train AUC TEStarmarker: 0.957.. Train AUC Hexagon: 0.983.. Train AUC Star: 0.996.. Train AUC Ellipse: 0.989.. Train AUC Triangle: 0.849.. Train AUC Starmarker: 0.848..  \n",
      "Val AUC HexStar: 0.973.. Val AUC EllStar: 0.978.. Val AUC TEStarmarker: 0.964.. Val AUC Hexagon: 0.974.. Val AUC Star: 0.993.. Val AUC Ellipse: 0.985.. Val AUC Triangle: 0.843.. Val AUC Starmarker: 0.867.. \n",
      "Validation loss decreased (0.236413 --> 0.235322).  Saving model ...\n",
      "Epoch 83/100.. Train loss: 0.211.. Valid loss: 0.238.. Train acc: 0.594.. Valid acc: 0.566.. Train AUC: 0.950.. Valid AUC: 0.945.. \n",
      "Train AUC HexStar: 0.986.. Train AUC EllStar: 0.987.. Train AUC TEStarmarker: 0.960.. Train AUC Hexagon: 0.984.. Train AUC Star: 0.995.. Train AUC Ellipse: 0.990.. Train AUC Triangle: 0.848.. Train AUC Starmarker: 0.853..  \n",
      "Val AUC HexStar: 0.975.. Val AUC EllStar: 0.977.. Val AUC TEStarmarker: 0.961.. Val AUC Hexagon: 0.976.. Val AUC Star: 0.993.. Val AUC Ellipse: 0.983.. Val AUC Triangle: 0.841.. Val AUC Starmarker: 0.854.. \n",
      "EarlyStopping counter: 1 out of 20\n",
      "Epoch 84/100.. Train loss: 0.211.. Valid loss: 0.228.. Train acc: 0.585.. Valid acc: 0.573.. Train AUC: 0.949.. Valid AUC: 0.946.. \n",
      "Train AUC HexStar: 0.985.. Train AUC EllStar: 0.989.. Train AUC TEStarmarker: 0.956.. Train AUC Hexagon: 0.983.. Train AUC Star: 0.996.. Train AUC Ellipse: 0.990.. Train AUC Triangle: 0.850.. Train AUC Starmarker: 0.845..  \n",
      "Val AUC HexStar: 0.978.. Val AUC EllStar: 0.982.. Val AUC TEStarmarker: 0.964.. Val AUC Hexagon: 0.979.. Val AUC Star: 0.993.. Val AUC Ellipse: 0.987.. Val AUC Triangle: 0.833.. Val AUC Starmarker: 0.850.. \n",
      "Validation loss decreased (0.235322 --> 0.227822).  Saving model ...\n"
     ]
    },
    {
     "name": "stdout",
     "output_type": "stream",
     "text": [
      "Epoch 85/100.. Train loss: 0.204.. Valid loss: 0.238.. Train acc: 0.589.. Valid acc: 0.541.. Train AUC: 0.953.. Valid AUC: 0.944.. \n",
      "Train AUC HexStar: 0.984.. Train AUC EllStar: 0.990.. Train AUC TEStarmarker: 0.961.. Train AUC Hexagon: 0.986.. Train AUC Star: 0.997.. Train AUC Ellipse: 0.992.. Train AUC Triangle: 0.856.. Train AUC Starmarker: 0.859..  \n",
      "Val AUC HexStar: 0.973.. Val AUC EllStar: 0.974.. Val AUC TEStarmarker: 0.960.. Val AUC Hexagon: 0.976.. Val AUC Star: 0.994.. Val AUC Ellipse: 0.983.. Val AUC Triangle: 0.848.. Val AUC Starmarker: 0.843.. \n",
      "EarlyStopping counter: 1 out of 20\n",
      "Epoch 86/100.. Train loss: 0.223.. Valid loss: 0.264.. Train acc: 0.567.. Valid acc: 0.539.. Train AUC: 0.950.. Valid AUC: 0.945.. \n",
      "Train AUC HexStar: 0.983.. Train AUC EllStar: 0.989.. Train AUC TEStarmarker: 0.959.. Train AUC Hexagon: 0.985.. Train AUC Star: 0.995.. Train AUC Ellipse: 0.994.. Train AUC Triangle: 0.845.. Train AUC Starmarker: 0.847..  \n",
      "Val AUC HexStar: 0.977.. Val AUC EllStar: 0.969.. Val AUC TEStarmarker: 0.962.. Val AUC Hexagon: 0.976.. Val AUC Star: 0.993.. Val AUC Ellipse: 0.981.. Val AUC Triangle: 0.847.. Val AUC Starmarker: 0.858.. \n",
      "EarlyStopping counter: 2 out of 20\n",
      "Epoch 87/100.. Train loss: 0.220.. Valid loss: 0.245.. Train acc: 0.578.. Valid acc: 0.530.. Train AUC: 0.951.. Valid AUC: 0.945.. \n",
      "Train AUC HexStar: 0.977.. Train AUC EllStar: 0.988.. Train AUC TEStarmarker: 0.961.. Train AUC Hexagon: 0.979.. Train AUC Star: 0.996.. Train AUC Ellipse: 0.991.. Train AUC Triangle: 0.848.. Train AUC Starmarker: 0.864..  \n",
      "Val AUC HexStar: 0.969.. Val AUC EllStar: 0.975.. Val AUC TEStarmarker: 0.963.. Val AUC Hexagon: 0.974.. Val AUC Star: 0.993.. Val AUC Ellipse: 0.984.. Val AUC Triangle: 0.845.. Val AUC Starmarker: 0.856.. \n",
      "EarlyStopping counter: 3 out of 20\n",
      "Epoch 88/100.. Train loss: 0.216.. Valid loss: 0.250.. Train acc: 0.589.. Valid acc: 0.533.. Train AUC: 0.951.. Valid AUC: 0.947.. \n",
      "Train AUC HexStar: 0.982.. Train AUC EllStar: 0.987.. Train AUC TEStarmarker: 0.960.. Train AUC Hexagon: 0.982.. Train AUC Star: 0.996.. Train AUC Ellipse: 0.993.. Train AUC Triangle: 0.851.. Train AUC Starmarker: 0.857..  \n",
      "Val AUC HexStar: 0.978.. Val AUC EllStar: 0.977.. Val AUC TEStarmarker: 0.964.. Val AUC Hexagon: 0.981.. Val AUC Star: 0.994.. Val AUC Ellipse: 0.986.. Val AUC Triangle: 0.840.. Val AUC Starmarker: 0.857.. \n",
      "EarlyStopping counter: 4 out of 20\n",
      "Epoch 89/100.. Train loss: 0.209.. Valid loss: 0.236.. Train acc: 0.587.. Valid acc: 0.558.. Train AUC: 0.951.. Valid AUC: 0.944.. \n",
      "Train AUC HexStar: 0.985.. Train AUC EllStar: 0.990.. Train AUC TEStarmarker: 0.957.. Train AUC Hexagon: 0.983.. Train AUC Star: 0.996.. Train AUC Ellipse: 0.992.. Train AUC Triangle: 0.852.. Train AUC Starmarker: 0.857..  \n",
      "Val AUC HexStar: 0.974.. Val AUC EllStar: 0.977.. Val AUC TEStarmarker: 0.963.. Val AUC Hexagon: 0.975.. Val AUC Star: 0.993.. Val AUC Ellipse: 0.985.. Val AUC Triangle: 0.846.. Val AUC Starmarker: 0.842.. \n",
      "EarlyStopping counter: 5 out of 20\n",
      "Epoch 90/100.. Train loss: 0.200.. Valid loss: 0.238.. Train acc: 0.589.. Valid acc: 0.537.. Train AUC: 0.954.. Valid AUC: 0.942.. \n",
      "Train AUC HexStar: 0.985.. Train AUC EllStar: 0.991.. Train AUC TEStarmarker: 0.963.. Train AUC Hexagon: 0.986.. Train AUC Star: 0.997.. Train AUC Ellipse: 0.991.. Train AUC Triangle: 0.863.. Train AUC Starmarker: 0.854..  \n",
      "Val AUC HexStar: 0.970.. Val AUC EllStar: 0.975.. Val AUC TEStarmarker: 0.964.. Val AUC Hexagon: 0.973.. Val AUC Star: 0.993.. Val AUC Ellipse: 0.984.. Val AUC Triangle: 0.843.. Val AUC Starmarker: 0.834.. \n",
      "EarlyStopping counter: 6 out of 20\n",
      "Epoch 91/100.. Train loss: 0.218.. Valid loss: 0.230.. Train acc: 0.567.. Valid acc: 0.543.. Train AUC: 0.952.. Valid AUC: 0.943.. \n",
      "Train AUC HexStar: 0.985.. Train AUC EllStar: 0.988.. Train AUC TEStarmarker: 0.958.. Train AUC Hexagon: 0.983.. Train AUC Star: 0.996.. Train AUC Ellipse: 0.992.. Train AUC Triangle: 0.855.. Train AUC Starmarker: 0.855..  \n",
      "Val AUC HexStar: 0.977.. Val AUC EllStar: 0.979.. Val AUC TEStarmarker: 0.964.. Val AUC Hexagon: 0.978.. Val AUC Star: 0.994.. Val AUC Ellipse: 0.987.. Val AUC Triangle: 0.838.. Val AUC Starmarker: 0.829.. \n",
      "EarlyStopping counter: 7 out of 20\n",
      "Epoch 92/100.. Train loss: 0.205.. Valid loss: 0.242.. Train acc: 0.593.. Valid acc: 0.571.. Train AUC: 0.951.. Valid AUC: 0.947.. \n",
      "Train AUC HexStar: 0.984.. Train AUC EllStar: 0.991.. Train AUC TEStarmarker: 0.958.. Train AUC Hexagon: 0.983.. Train AUC Star: 0.996.. Train AUC Ellipse: 0.993.. Train AUC Triangle: 0.852.. Train AUC Starmarker: 0.848..  \n",
      "Val AUC HexStar: 0.977.. Val AUC EllStar: 0.973.. Val AUC TEStarmarker: 0.964.. Val AUC Hexagon: 0.981.. Val AUC Star: 0.994.. Val AUC Ellipse: 0.982.. Val AUC Triangle: 0.846.. Val AUC Starmarker: 0.857.. \n",
      "EarlyStopping counter: 8 out of 20\n",
      "Epoch 93/100.. Train loss: 0.208.. Valid loss: 0.240.. Train acc: 0.590.. Valid acc: 0.534.. Train AUC: 0.953.. Valid AUC: 0.943.. \n",
      "Train AUC HexStar: 0.983.. Train AUC EllStar: 0.987.. Train AUC TEStarmarker: 0.962.. Train AUC Hexagon: 0.985.. Train AUC Star: 0.995.. Train AUC Ellipse: 0.990.. Train AUC Triangle: 0.862.. Train AUC Starmarker: 0.861..  \n",
      "Val AUC HexStar: 0.975.. Val AUC EllStar: 0.976.. Val AUC TEStarmarker: 0.961.. Val AUC Hexagon: 0.975.. Val AUC Star: 0.995.. Val AUC Ellipse: 0.983.. Val AUC Triangle: 0.835.. Val AUC Starmarker: 0.846.. \n",
      "EarlyStopping counter: 9 out of 20\n",
      "Epoch 94/100.. Train loss: 0.200.. Valid loss: 0.233.. Train acc: 0.588.. Valid acc: 0.571.. Train AUC: 0.953.. Valid AUC: 0.948.. \n",
      "Train AUC HexStar: 0.984.. Train AUC EllStar: 0.990.. Train AUC TEStarmarker: 0.960.. Train AUC Hexagon: 0.984.. Train AUC Star: 0.997.. Train AUC Ellipse: 0.993.. Train AUC Triangle: 0.862.. Train AUC Starmarker: 0.852..  \n",
      "Val AUC HexStar: 0.978.. Val AUC EllStar: 0.973.. Val AUC TEStarmarker: 0.964.. Val AUC Hexagon: 0.979.. Val AUC Star: 0.996.. Val AUC Ellipse: 0.983.. Val AUC Triangle: 0.850.. Val AUC Starmarker: 0.859.. \n",
      "EarlyStopping counter: 10 out of 20\n",
      "Epoch 95/100.. Train loss: 0.199.. Valid loss: 0.244.. Train acc: 0.587.. Valid acc: 0.565.. Train AUC: 0.954.. Valid AUC: 0.946.. \n",
      "Train AUC HexStar: 0.985.. Train AUC EllStar: 0.990.. Train AUC TEStarmarker: 0.960.. Train AUC Hexagon: 0.984.. Train AUC Star: 0.997.. Train AUC Ellipse: 0.994.. Train AUC Triangle: 0.858.. Train AUC Starmarker: 0.864..  \n",
      "Val AUC HexStar: 0.973.. Val AUC EllStar: 0.970.. Val AUC TEStarmarker: 0.962.. Val AUC Hexagon: 0.977.. Val AUC Star: 0.993.. Val AUC Ellipse: 0.983.. Val AUC Triangle: 0.845.. Val AUC Starmarker: 0.870.. \n",
      "EarlyStopping counter: 11 out of 20\n",
      "Epoch 96/100.. Train loss: 0.197.. Valid loss: 0.227.. Train acc: 0.595.. Valid acc: 0.584.. Train AUC: 0.954.. Valid AUC: 0.949.. \n",
      "Train AUC HexStar: 0.984.. Train AUC EllStar: 0.991.. Train AUC TEStarmarker: 0.963.. Train AUC Hexagon: 0.984.. Train AUC Star: 0.997.. Train AUC Ellipse: 0.994.. Train AUC Triangle: 0.859.. Train AUC Starmarker: 0.861..  \n",
      "Val AUC HexStar: 0.976.. Val AUC EllStar: 0.981.. Val AUC TEStarmarker: 0.965.. Val AUC Hexagon: 0.976.. Val AUC Star: 0.995.. Val AUC Ellipse: 0.987.. Val AUC Triangle: 0.850.. Val AUC Starmarker: 0.864.. \n",
      "EarlyStopping counter: 12 out of 20\n",
      "Epoch 97/100.. Train loss: 0.201.. Valid loss: 0.224.. Train acc: 0.605.. Valid acc: 0.576.. Train AUC: 0.953.. Valid AUC: 0.950.. \n",
      "Train AUC HexStar: 0.984.. Train AUC EllStar: 0.990.. Train AUC TEStarmarker: 0.960.. Train AUC Hexagon: 0.983.. Train AUC Star: 0.996.. Train AUC Ellipse: 0.992.. Train AUC Triangle: 0.863.. Train AUC Starmarker: 0.855..  \n",
      "Val AUC HexStar: 0.976.. Val AUC EllStar: 0.979.. Val AUC TEStarmarker: 0.969.. Val AUC Hexagon: 0.980.. Val AUC Star: 0.992.. Val AUC Ellipse: 0.985.. Val AUC Triangle: 0.854.. Val AUC Starmarker: 0.860.. \n",
      "Validation loss decreased (0.227822 --> 0.223806).  Saving model ...\n",
      "Epoch 98/100.. Train loss: 0.202.. Valid loss: 0.225.. Train acc: 0.608.. Valid acc: 0.578.. Train AUC: 0.955.. Valid AUC: 0.950.. \n",
      "Train AUC HexStar: 0.984.. Train AUC EllStar: 0.991.. Train AUC TEStarmarker: 0.961.. Train AUC Hexagon: 0.983.. Train AUC Star: 0.997.. Train AUC Ellipse: 0.993.. Train AUC Triangle: 0.866.. Train AUC Starmarker: 0.863..  \n",
      "Val AUC HexStar: 0.977.. Val AUC EllStar: 0.980.. Val AUC TEStarmarker: 0.966.. Val AUC Hexagon: 0.976.. Val AUC Star: 0.995.. Val AUC Ellipse: 0.986.. Val AUC Triangle: 0.848.. Val AUC Starmarker: 0.873.. \n",
      "EarlyStopping counter: 1 out of 20\n"
     ]
    },
    {
     "name": "stdout",
     "output_type": "stream",
     "text": [
      "Epoch 99/100.. Train loss: 0.189.. Valid loss: 0.227.. Train acc: 0.620.. Valid acc: 0.587.. Train AUC: 0.957.. Valid AUC: 0.950.. \n",
      "Train AUC HexStar: 0.990.. Train AUC EllStar: 0.992.. Train AUC TEStarmarker: 0.964.. Train AUC Hexagon: 0.989.. Train AUC Star: 0.998.. Train AUC Ellipse: 0.993.. Train AUC Triangle: 0.864.. Train AUC Starmarker: 0.867..  \n",
      "Val AUC HexStar: 0.981.. Val AUC EllStar: 0.974.. Val AUC TEStarmarker: 0.962.. Val AUC Hexagon: 0.982.. Val AUC Star: 0.995.. Val AUC Ellipse: 0.982.. Val AUC Triangle: 0.846.. Val AUC Starmarker: 0.876.. \n",
      "EarlyStopping counter: 2 out of 20\n",
      "Epoch 100/100.. Train loss: 0.210.. Valid loss: 0.236.. Train acc: 0.578.. Valid acc: 0.533.. Train AUC: 0.954.. Valid AUC: 0.945.. \n",
      "Train AUC HexStar: 0.984.. Train AUC EllStar: 0.989.. Train AUC TEStarmarker: 0.965.. Train AUC Hexagon: 0.983.. Train AUC Star: 0.995.. Train AUC Ellipse: 0.992.. Train AUC Triangle: 0.857.. Train AUC Starmarker: 0.863..  \n",
      "Val AUC HexStar: 0.975.. Val AUC EllStar: 0.977.. Val AUC TEStarmarker: 0.961.. Val AUC Hexagon: 0.976.. Val AUC Star: 0.993.. Val AUC Ellipse: 0.986.. Val AUC Triangle: 0.835.. Val AUC Starmarker: 0.857.. \n",
      "EarlyStopping counter: 3 out of 20\n"
     ]
    }
   ],
   "source": [
    "trainer.train_simultaneous_model(['HexStar', 'EllStar', 'TEStarmarker', 'Hexagon', 'Star', 'Ellipse', 'Triangle', 'Starmarker'], \n",
    "                                 20, [160, 80, 40, 20], [20, 1])"
   ]
  },
  {
   "cell_type": "markdown",
   "id": "75e423d5",
   "metadata": {},
   "source": [
    "### Evaluating the mapping network"
   ]
  },
  {
   "cell_type": "code",
   "execution_count": 8,
   "id": "e5e1cac3",
   "metadata": {},
   "outputs": [
    {
     "name": "stderr",
     "output_type": "stream",
     "text": [
      "Using cache found in C:\\Users\\aaagafonov/.cache\\torch\\hub\\pytorch_vision_v0.10.0\n"
     ]
    }
   ],
   "source": [
    "from revelionn.utils.model import load_mapping_model\n",
    "\n",
    "main_module, mapping_module, activation_extractor, transformation, img_size = load_mapping_model(\n",
    "    os.path.join(root_path, 'trained_models', 'mapping_models', 'C1_20_[160, 80, 40, 20]_[20, 1].rvl'), \n",
    "    cur_path, os.path.join(root_path, 'main_net_classes'), device)"
   ]
  },
  {
   "cell_type": "code",
   "execution_count": 9,
   "id": "b6f40fd1",
   "metadata": {},
   "outputs": [
    {
     "name": "stdout",
     "output_type": "stream",
     "text": [
      "Test loss: 0.2134.. Test acc: 0.5975.. Test AUC: 0.9481.. \n",
      "Test concepts AUC: [0.9813480533138458, 0.9878792414908505, 0.9534641305338418, 0.9862450972327712, 0.9957535388742688, 0.9927575355754008, 0.8373931843602047, 0.8498644982142298]\n"
     ]
    },
    {
     "data": {
      "text/plain": [
       "([0.9813480533138458,\n",
       "  0.9878792414908505,\n",
       "  0.9534641305338418,\n",
       "  0.9862450972327712,\n",
       "  0.9957535388742688,\n",
       "  0.9927575355754008,\n",
       "  0.8373931843602047,\n",
       "  0.8498644982142298],\n",
       " 0.9480881599494266)"
      ]
     },
     "execution_count": 9,
     "metadata": {},
     "output_type": "execute_result"
    }
   ],
   "source": [
    "from revelionn.datasets import create_dataloader\n",
    "\n",
    "test_loader = create_dataloader('D:\\\\Datasets\\\\scdb_custom\\\\scdb_partition_corrected\\\\C1_test.csv', \n",
    "                                'D:\\\\Datasets\\\\scdb_custom\\\\images', 'name',\n",
    "                                mapping_module.get_class_labels(), 100, 6, transformation)\n",
    "mapping_module.evaluate_model(test_loader)"
   ]
  },
  {
   "cell_type": "markdown",
   "id": "6c0c5dd4",
   "metadata": {},
   "source": [
    "## Interpretation of the convolutional network"
   ]
  },
  {
   "cell_type": "markdown",
   "id": "c1406419",
   "metadata": {},
   "source": [
    "### Formation of logical explanations"
   ]
  },
  {
   "cell_type": "code",
   "execution_count": 10,
   "id": "bd6c7e90",
   "metadata": {},
   "outputs": [
    {
     "name": "stdout",
     "output_type": "stream",
     "text": [
      "\n",
      "The image is classified as ['C1'].\n",
      "\n",
      "The following concepts were extracted from the image:\n",
      "['HexStar', 'EllStar', 'NotTEStarmarker', 'Hexagon', 'Star', 'Ellipse', 'NotTriangle', 'NotStarmarker']\n",
      "with the following probabilities:\n",
      "[0.9892287, 0.9961117, 0.7307813167572021, 0.9938647, 0.9998809, 0.9967223, 0.751079648733139, 0.6663315296173096]\n",
      "\n",
      "Read Observations: \n",
      "\t__input__ Type HexStar\n",
      "\t__input__ Type EllStar\n",
      "\t__input__ Type not (TEStarmarker)\n",
      "\t__input__ Type has some Hexagon\n",
      "\t__input__ Type has some Star\n",
      "\t__input__ Type has some Ellipse\n",
      "\t__input__ Type not (has some Triangle)\n",
      "\t__input__ Type not (has some Starmarker)\n",
      "\n",
      "Found Justifications:\n",
      "Justification for '__input__ Type C1':\t(Degree of Belief: 0.9966)\n",
      "\t__input__ Type has some Star\t(\"0.9998809\")\n",
      "\t__input__ Type has some Ellipse\t(\"0.9967223\")\n",
      "\t(has some Ellipse) and (has some Star) SubClassOf EllStar\n",
      "\tC1 EquivalentTo EllStar or HexStar or TEStarmarker\n",
      "\n",
      "Justification for '__input__ Type C1':\t(Degree of Belief: 0.99611)\n",
      "\t__input__ Type EllStar\t(\"0.9961117\")\n",
      "\tC1 EquivalentTo EllStar or HexStar or TEStarmarker\n",
      "\n",
      "Justification for '__input__ Type C1':\t(Degree of Belief: 0.99374)\n",
      "\t__input__ Type has some Star\t(\"0.9998809\")\n",
      "\t__input__ Type has some Hexagon\t(\"0.9938647\")\n",
      "\t(has some Hexagon) and (has some Star) SubClassOf HexStar\n",
      "\tC1 EquivalentTo EllStar or HexStar or TEStarmarker\n",
      "\n",
      "Justification for '__input__ Type C1':\t(Degree of Belief: 0.98923)\n",
      "\t__input__ Type HexStar\t(\"0.9892287\")\n",
      "\tC1 EquivalentTo EllStar or HexStar or TEStarmarker\n",
      "\n",
      "\n",
      "\n"
     ]
    }
   ],
   "source": [
    "from revelionn.utils.explanation import extract_concepts_from_img, explain_target_concept\n",
    "from ontologies.scdb_ontology import concepts_map\n",
    "from PIL import Image\n",
    "\n",
    "image_path = 'D:\\\\PycharmProjects\\\\revelionn\\\\data\\\\001236.png'\n",
    "\n",
    "image = Image.open(image_path)\n",
    "main_concepts, extracted_concepts, mapping_probabilities = extract_concepts_from_img(main_module,\n",
    "                                                                                     mapping_module,\n",
    "                                                                                     image,\n",
    "                                                                                     transformation)\n",
    "print(f'\\nThe image is classified as {main_concepts}.')\n",
    "print('\\nThe following concepts were extracted from the image:')\n",
    "print(extracted_concepts)\n",
    "print('with the following probabilities:')\n",
    "print(f'{mapping_probabilities}\\n')\n",
    "    \n",
    "justifications = explain_target_concept(extracted_concepts, mapping_probabilities, concepts_map, 'C1',\n",
    "                                        os.path.join(root_path, 'ontologies', 'SCDB.owl'), \n",
    "                                        os.path.join(root_path, 'temp'))\n",
    "print(justifications)"
   ]
  },
  {
   "cell_type": "markdown",
   "id": "959ee250",
   "metadata": {},
   "source": [
    "### Formation of visual explanations"
   ]
  },
  {
   "cell_type": "code",
   "execution_count": 11,
   "id": "cd33ec27",
   "metadata": {},
   "outputs": [
    {
     "name": "stdout",
     "output_type": "stream",
     "text": [
      "Saliency maps: (5, 256, 256)\n",
      "Class HexStar saliency map range: [-0.014413558878004551, 1.0]\n",
      "Class EllStar saliency map range: [-0.0013842829503118992, 1.0]\n",
      "Class Hexagon saliency map range: [-0.01079257857054472, 1.0]\n",
      "Class Star saliency map range: [-8.162015728885308e-05, 1.0]\n",
      "Class Ellipse saliency map range: [-0.0030527871567755938, 1.0]\n"
     ]
    },
    {
     "data": {
      "image/png": "[encoded data removed]",
      "text/plain": [
       "<Figure size 1800x600 with 11 Axes>"
      ]
     },
     "metadata": {},
     "output_type": "display_data"
    }
   ],
   "source": [
    "import matplotlib.pyplot as plt\n",
    "from revelionn.occlusion import perform_occlusion\n",
    "\n",
    "perform_occlusion(main_module, mapping_module, activation_extractor, transformation, img_size,\n",
    "                  image_path, window_size=20, stride=5, threads=0)\n",
    "plt.show()"
   ]
  },
  {
   "cell_type": "code",
   "execution_count": null,
   "id": "376b62ed",
   "metadata": {},
   "outputs": [],
   "source": []
  }
 ],
 "metadata": {
  "kernelspec": {
   "display_name": "Python 3 (ipykernel)",
   "language": "python",
   "name": "python3"
  },
  "language_info": {
   "codemirror_mode": {
    "name": "ipython",
    "version": 3
   },
   "file_extension": ".py",
   "mimetype": "text/x-python",
   "name": "python",
   "nbconvert_exporter": "python",
   "pygments_lexer": "ipython3",
   "version": "3.9.16"
  }
 },
 "nbformat": 4,
 "nbformat_minor": 5
}
